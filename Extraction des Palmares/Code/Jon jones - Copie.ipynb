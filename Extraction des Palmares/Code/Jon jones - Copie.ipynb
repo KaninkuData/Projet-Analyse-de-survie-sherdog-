{
 "cells": [
  {
   "cell_type": "markdown",
   "metadata": {},
   "source": [
    "# Extraction du palmarès de Jones"
   ]
  },
  {
   "cell_type": "code",
   "execution_count": 1,
   "metadata": {},
   "outputs": [],
   "source": [
    "from selenium import webdriver\n",
    "from selenium.webdriver.common.keys import Keys\n",
    "from selenium.webdriver.support import expected_conditions as EC\n",
    "from selenium.webdriver.common.by import By\n",
    "from selenium.webdriver.support.wait import WebDriverWait"
   ]
  },
  {
   "cell_type": "code",
   "execution_count": 2,
   "metadata": {},
   "outputs": [
    {
     "name": "stderr",
     "output_type": "stream",
     "text": [
      "C:\\Users\\ktshilombo\\AppData\\Local\\Temp\\ipykernel_27036\\2348692728.py:1: DeprecationWarning: executable_path has been deprecated, please pass in a Service object\n",
      "  driver = webdriver.Chrome('C:/Users/ktshilombo/chromedriver/chromedriver.exe')\n"
     ]
    }
   ],
   "source": [
    "driver = webdriver.Chrome('C:/Users/ktshilombo/chromedriver/chromedriver.exe')\n",
    "driver.get(\"https://www.sherdog.com/fighter/Jon-Jones-27944\")"
   ]
  },
  {
   "cell_type": "code",
   "execution_count": 3,
   "metadata": {},
   "outputs": [],
   "source": [
    "#Cliquer sur en savoir plus\n",
    "not_now = WebDriverWait(driver, 10).until(EC.element_to_be_clickable((By.XPATH, '//button[contains(text(), \"En savoir plus pour accepter les préférences 1/3\")]'))).click()\n",
    "#Cliquer sur tout accepter\n",
    "not_now = WebDriverWait(driver, 10).until(EC.element_to_be_clickable((By.XPATH, '//button[contains(text(), \"Tout accepter\")]'))).click()\n"
   ]
  },
  {
   "cell_type": "code",
   "execution_count": 4,
   "metadata": {},
   "outputs": [
    {
     "name": "stdout",
     "output_type": "stream",
     "text": [
      "Decision (Unanimous)\n",
      "Decision (Split)\n",
      "Decision (Unanimous)\n",
      "KO (Punches)\n",
      "No Contest (Overturned by CSAC)\n",
      "Decision (Unanimous)\n",
      "Decision (Unanimous)\n",
      "Decision (Unanimous)\n",
      "Decision (Unanimous)\n",
      "TKO (Elbows and Punches)\n",
      "Submission (Keylock)\n",
      "Decision (Unanimous)\n",
      "Technical Submission (Guillotine Choke)\n",
      "Submission (Rear-Naked Choke)\n",
      "TKO (Punches and Knees)\n",
      "Submission (Guillotine Choke)\n",
      "TKO (Elbows)\n",
      "TKO (Elbows and Punches)\n",
      "Disqualification (Illegal Elbows)\n",
      "Submission (Guillotine Choke)\n",
      "Decision (Unanimous)\n",
      "Decision (Unanimous)\n",
      "TKO (Punches)\n",
      "KO (Punch)\n",
      "TKO (Punches)\n",
      "Submission (Guillotine Choke)\n",
      "KO (Punches)\n",
      "TKO (Punches)\n"
     ]
    }
   ],
   "source": [
    "for form_body in driver.find_elements(By.CSS_SELECTOR, \"td[class='winby'] b\"):\n",
    "    print(form_body.text)"
   ]
  },
  {
   "cell_type": "code",
   "execution_count": 5,
   "metadata": {},
   "outputs": [],
   "source": [
    "k = []\n",
    "for form_body in driver.find_elements(By.CSS_SELECTOR, \"td[class='winby'] b\"):\n",
    "    k.append(form_body.text)"
   ]
  },
  {
   "cell_type": "code",
   "execution_count": 6,
   "metadata": {},
   "outputs": [
    {
     "data": {
      "text/plain": [
       "['Decision (Unanimous)',\n",
       " 'Decision (Split)',\n",
       " 'Decision (Unanimous)',\n",
       " 'KO (Punches)',\n",
       " 'No Contest (Overturned by CSAC)',\n",
       " 'Decision (Unanimous)',\n",
       " 'Decision (Unanimous)',\n",
       " 'Decision (Unanimous)',\n",
       " 'Decision (Unanimous)',\n",
       " 'TKO (Elbows and Punches)',\n",
       " 'Submission (Keylock)',\n",
       " 'Decision (Unanimous)',\n",
       " 'Technical Submission (Guillotine Choke)',\n",
       " 'Submission (Rear-Naked Choke)',\n",
       " 'TKO (Punches and Knees)',\n",
       " 'Submission (Guillotine Choke)',\n",
       " 'TKO (Elbows)',\n",
       " 'TKO (Elbows and Punches)',\n",
       " 'Disqualification (Illegal Elbows)',\n",
       " 'Submission (Guillotine Choke)',\n",
       " 'Decision (Unanimous)',\n",
       " 'Decision (Unanimous)',\n",
       " 'TKO (Punches)',\n",
       " 'KO (Punch)',\n",
       " 'TKO (Punches)',\n",
       " 'Submission (Guillotine Choke)',\n",
       " 'KO (Punches)',\n",
       " 'TKO (Punches)']"
      ]
     },
     "execution_count": 6,
     "metadata": {},
     "output_type": "execute_result"
    }
   ],
   "source": [
    "#Forme du resultat\n",
    "k"
   ]
  },
  {
   "cell_type": "code",
   "execution_count": 7,
   "metadata": {},
   "outputs": [],
   "source": [
    "a = []\n",
    "for form in driver.find_elements(By.CSS_SELECTOR, \"span[class *='final']\"):\n",
    "    a.append(form.text)"
   ]
  },
  {
   "cell_type": "code",
   "execution_count": 8,
   "metadata": {},
   "outputs": [
    {
     "data": {
      "text/plain": [
       "['WIN',\n",
       " 'WIN',\n",
       " 'WIN',\n",
       " 'WIN',\n",
       " 'NC',\n",
       " 'WIN',\n",
       " 'WIN',\n",
       " 'WIN',\n",
       " 'WIN',\n",
       " 'WIN',\n",
       " 'WIN',\n",
       " 'WIN',\n",
       " 'WIN',\n",
       " 'WIN',\n",
       " 'WIN',\n",
       " 'WIN',\n",
       " 'WIN',\n",
       " 'WIN',\n",
       " 'LOSS',\n",
       " 'WIN',\n",
       " 'WIN',\n",
       " 'WIN',\n",
       " 'WIN',\n",
       " 'WIN',\n",
       " 'WIN',\n",
       " 'WIN',\n",
       " 'WIN',\n",
       " 'WIN']"
      ]
     },
     "execution_count": 8,
     "metadata": {},
     "output_type": "execute_result"
    }
   ],
   "source": [
    "#Résultat\n",
    "a"
   ]
  },
  {
   "cell_type": "code",
   "execution_count": 9,
   "metadata": {},
   "outputs": [],
   "source": [
    "#Date de combat\n",
    "T = []\n",
    "for date in driver.find_elements(By.CSS_SELECTOR, \"span[class='sub_line']\"):\n",
    "    T.append(date.text)"
   ]
  },
  {
   "cell_type": "code",
   "execution_count": 10,
   "metadata": {},
   "outputs": [
    {
     "data": {
      "text/plain": [
       "['2020',\n",
       " '2019',\n",
       " '2019',\n",
       " '2018',\n",
       " '2017',\n",
       " '2016',\n",
       " '2015',\n",
       " '2014',\n",
       " '2013',\n",
       " '2013',\n",
       " '2012',\n",
       " '2012',\n",
       " '2011',\n",
       " '2011',\n",
       " '2011',\n",
       " '2011',\n",
       " '2010',\n",
       " '2010',\n",
       " '2009',\n",
       " '2009',\n",
       " '2009',\n",
       " '2008',\n",
       " '2008',\n",
       " '2008',\n",
       " '2008',\n",
       " '2008',\n",
       " '2008',\n",
       " '2008']"
      ]
     },
     "execution_count": 10,
     "metadata": {},
     "output_type": "execute_result"
    }
   ],
   "source": [
    "i = 0\n",
    "d= []\n",
    "while i <len(T):\n",
    "    if T[i].find(\"/\") != -1:\n",
    "        d.append(T[i][-4:])   \n",
    "    i+=1\n",
    "d"
   ]
  },
  {
   "cell_type": "code",
   "execution_count": 11,
   "metadata": {},
   "outputs": [],
   "source": [
    "#Temps de combat\n",
    "t = []\n",
    "for form_body in driver.find_elements(By.XPATH,\"//tbody/tr/td[6]\"):\n",
    "    t.append(form_body.text)"
   ]
  },
  {
   "cell_type": "code",
   "execution_count": 12,
   "metadata": {},
   "outputs": [
    {
     "data": {
      "text/plain": [
       "['5:00',\n",
       " '5:00',\n",
       " '5:00',\n",
       " '2:02',\n",
       " '3:01',\n",
       " '5:00',\n",
       " '5:00',\n",
       " '5:00',\n",
       " '5:00',\n",
       " '4:33',\n",
       " '0:54',\n",
       " '5:00',\n",
       " '4:26',\n",
       " '1:14',\n",
       " '2:37',\n",
       " '4:20',\n",
       " '1:52',\n",
       " '3:19',\n",
       " '4:14',\n",
       " '2:43',\n",
       " '5:00',\n",
       " '5:00',\n",
       " '1:58',\n",
       " '0:36',\n",
       " '0:14',\n",
       " '1:15',\n",
       " '0:24',\n",
       " '1:32']"
      ]
     },
     "execution_count": 12,
     "metadata": {},
     "output_type": "execute_result"
    }
   ],
   "source": [
    "t.pop(0)\n",
    "t"
   ]
  },
  {
   "cell_type": "code",
   "execution_count": 13,
   "metadata": {},
   "outputs": [],
   "source": [
    "#Round\n",
    "r =[]\n",
    "for form_body in driver.find_elements(By.XPATH,\"//tbody/tr/td[5]\"):\n",
    "    r.append(form_body.text)    "
   ]
  },
  {
   "cell_type": "code",
   "execution_count": 14,
   "metadata": {},
   "outputs": [
    {
     "data": {
      "text/plain": [
       "['5',\n",
       " '5',\n",
       " '5',\n",
       " '3',\n",
       " '3',\n",
       " '5',\n",
       " '5',\n",
       " '5',\n",
       " '5',\n",
       " '1',\n",
       " '4',\n",
       " '5',\n",
       " '2',\n",
       " '4',\n",
       " '3',\n",
       " '2',\n",
       " '1',\n",
       " '1',\n",
       " '1',\n",
       " '2',\n",
       " '3',\n",
       " '3',\n",
       " '2',\n",
       " '1',\n",
       " '1',\n",
       " '1',\n",
       " '3',\n",
       " '1']"
      ]
     },
     "execution_count": 14,
     "metadata": {},
     "output_type": "execute_result"
    }
   ],
   "source": [
    "r.pop(0)\n",
    "r"
   ]
  },
  {
   "cell_type": "code",
   "execution_count": 15,
   "metadata": {},
   "outputs": [],
   "source": [
    "#Catégorie\n",
    "C = []\n",
    "for date in driver.find_elements(By.CSS_SELECTOR, '[class=\"association-class\"] a'):\n",
    "    C.append(date.text)"
   ]
  },
  {
   "cell_type": "code",
   "execution_count": 17,
   "metadata": {},
   "outputs": [
    {
     "data": {
      "text/plain": [
       "'LIGHT HEAVYWEIGHT'"
      ]
     },
     "execution_count": 17,
     "metadata": {},
     "output_type": "execute_result"
    }
   ],
   "source": [
    "C[1]"
   ]
  },
  {
   "cell_type": "code",
   "execution_count": 18,
   "metadata": {},
   "outputs": [],
   "source": [
    "#Date de naissance\n",
    "dtnai = driver.find_element(By.CSS_SELECTOR, 'span[itemprop=\"birthDate\"]').text"
   ]
  },
  {
   "cell_type": "code",
   "execution_count": 19,
   "metadata": {},
   "outputs": [],
   "source": [
    "#Nom et prénom\n",
    "nom = driver.find_element(By.CSS_SELECTOR, 'span[class=\"fn\"]').text"
   ]
  },
  {
   "cell_type": "code",
   "execution_count": 20,
   "metadata": {},
   "outputs": [
    {
     "data": {
      "text/html": [
       "<div>\n",
       "<style scoped>\n",
       "    .dataframe tbody tr th:only-of-type {\n",
       "        vertical-align: middle;\n",
       "    }\n",
       "\n",
       "    .dataframe tbody tr th {\n",
       "        vertical-align: top;\n",
       "    }\n",
       "\n",
       "    .dataframe thead th {\n",
       "        text-align: right;\n",
       "    }\n",
       "</style>\n",
       "<table border=\"1\" class=\"dataframe\">\n",
       "  <thead>\n",
       "    <tr style=\"text-align: right;\">\n",
       "      <th></th>\n",
       "      <th>Methode_finission</th>\n",
       "      <th>resultat</th>\n",
       "      <th>Date_combat</th>\n",
       "      <th>Durée_combat</th>\n",
       "      <th>Round_final</th>\n",
       "    </tr>\n",
       "  </thead>\n",
       "  <tbody>\n",
       "    <tr>\n",
       "      <th>0</th>\n",
       "      <td>Decision (Unanimous)</td>\n",
       "      <td>WIN</td>\n",
       "      <td>2020</td>\n",
       "      <td>5:00</td>\n",
       "      <td>5</td>\n",
       "    </tr>\n",
       "    <tr>\n",
       "      <th>1</th>\n",
       "      <td>Decision (Split)</td>\n",
       "      <td>WIN</td>\n",
       "      <td>2019</td>\n",
       "      <td>5:00</td>\n",
       "      <td>5</td>\n",
       "    </tr>\n",
       "    <tr>\n",
       "      <th>2</th>\n",
       "      <td>Decision (Unanimous)</td>\n",
       "      <td>WIN</td>\n",
       "      <td>2019</td>\n",
       "      <td>5:00</td>\n",
       "      <td>5</td>\n",
       "    </tr>\n",
       "    <tr>\n",
       "      <th>3</th>\n",
       "      <td>KO (Punches)</td>\n",
       "      <td>WIN</td>\n",
       "      <td>2018</td>\n",
       "      <td>2:02</td>\n",
       "      <td>3</td>\n",
       "    </tr>\n",
       "    <tr>\n",
       "      <th>4</th>\n",
       "      <td>No Contest (Overturned by CSAC)</td>\n",
       "      <td>NC</td>\n",
       "      <td>2017</td>\n",
       "      <td>3:01</td>\n",
       "      <td>3</td>\n",
       "    </tr>\n",
       "    <tr>\n",
       "      <th>5</th>\n",
       "      <td>Decision (Unanimous)</td>\n",
       "      <td>WIN</td>\n",
       "      <td>2016</td>\n",
       "      <td>5:00</td>\n",
       "      <td>5</td>\n",
       "    </tr>\n",
       "    <tr>\n",
       "      <th>6</th>\n",
       "      <td>Decision (Unanimous)</td>\n",
       "      <td>WIN</td>\n",
       "      <td>2015</td>\n",
       "      <td>5:00</td>\n",
       "      <td>5</td>\n",
       "    </tr>\n",
       "    <tr>\n",
       "      <th>7</th>\n",
       "      <td>Decision (Unanimous)</td>\n",
       "      <td>WIN</td>\n",
       "      <td>2014</td>\n",
       "      <td>5:00</td>\n",
       "      <td>5</td>\n",
       "    </tr>\n",
       "    <tr>\n",
       "      <th>8</th>\n",
       "      <td>Decision (Unanimous)</td>\n",
       "      <td>WIN</td>\n",
       "      <td>2013</td>\n",
       "      <td>5:00</td>\n",
       "      <td>5</td>\n",
       "    </tr>\n",
       "    <tr>\n",
       "      <th>9</th>\n",
       "      <td>TKO (Elbows and Punches)</td>\n",
       "      <td>WIN</td>\n",
       "      <td>2013</td>\n",
       "      <td>4:33</td>\n",
       "      <td>1</td>\n",
       "    </tr>\n",
       "    <tr>\n",
       "      <th>10</th>\n",
       "      <td>Submission (Keylock)</td>\n",
       "      <td>WIN</td>\n",
       "      <td>2012</td>\n",
       "      <td>0:54</td>\n",
       "      <td>4</td>\n",
       "    </tr>\n",
       "    <tr>\n",
       "      <th>11</th>\n",
       "      <td>Decision (Unanimous)</td>\n",
       "      <td>WIN</td>\n",
       "      <td>2012</td>\n",
       "      <td>5:00</td>\n",
       "      <td>5</td>\n",
       "    </tr>\n",
       "    <tr>\n",
       "      <th>12</th>\n",
       "      <td>Technical Submission (Guillotine Choke)</td>\n",
       "      <td>WIN</td>\n",
       "      <td>2011</td>\n",
       "      <td>4:26</td>\n",
       "      <td>2</td>\n",
       "    </tr>\n",
       "    <tr>\n",
       "      <th>13</th>\n",
       "      <td>Submission (Rear-Naked Choke)</td>\n",
       "      <td>WIN</td>\n",
       "      <td>2011</td>\n",
       "      <td>1:14</td>\n",
       "      <td>4</td>\n",
       "    </tr>\n",
       "    <tr>\n",
       "      <th>14</th>\n",
       "      <td>TKO (Punches and Knees)</td>\n",
       "      <td>WIN</td>\n",
       "      <td>2011</td>\n",
       "      <td>2:37</td>\n",
       "      <td>3</td>\n",
       "    </tr>\n",
       "    <tr>\n",
       "      <th>15</th>\n",
       "      <td>Submission (Guillotine Choke)</td>\n",
       "      <td>WIN</td>\n",
       "      <td>2011</td>\n",
       "      <td>4:20</td>\n",
       "      <td>2</td>\n",
       "    </tr>\n",
       "    <tr>\n",
       "      <th>16</th>\n",
       "      <td>TKO (Elbows)</td>\n",
       "      <td>WIN</td>\n",
       "      <td>2010</td>\n",
       "      <td>1:52</td>\n",
       "      <td>1</td>\n",
       "    </tr>\n",
       "    <tr>\n",
       "      <th>17</th>\n",
       "      <td>TKO (Elbows and Punches)</td>\n",
       "      <td>WIN</td>\n",
       "      <td>2010</td>\n",
       "      <td>3:19</td>\n",
       "      <td>1</td>\n",
       "    </tr>\n",
       "    <tr>\n",
       "      <th>18</th>\n",
       "      <td>Disqualification (Illegal Elbows)</td>\n",
       "      <td>LOSS</td>\n",
       "      <td>2009</td>\n",
       "      <td>4:14</td>\n",
       "      <td>1</td>\n",
       "    </tr>\n",
       "    <tr>\n",
       "      <th>19</th>\n",
       "      <td>Submission (Guillotine Choke)</td>\n",
       "      <td>WIN</td>\n",
       "      <td>2009</td>\n",
       "      <td>2:43</td>\n",
       "      <td>2</td>\n",
       "    </tr>\n",
       "    <tr>\n",
       "      <th>20</th>\n",
       "      <td>Decision (Unanimous)</td>\n",
       "      <td>WIN</td>\n",
       "      <td>2009</td>\n",
       "      <td>5:00</td>\n",
       "      <td>3</td>\n",
       "    </tr>\n",
       "    <tr>\n",
       "      <th>21</th>\n",
       "      <td>Decision (Unanimous)</td>\n",
       "      <td>WIN</td>\n",
       "      <td>2008</td>\n",
       "      <td>5:00</td>\n",
       "      <td>3</td>\n",
       "    </tr>\n",
       "    <tr>\n",
       "      <th>22</th>\n",
       "      <td>TKO (Punches)</td>\n",
       "      <td>WIN</td>\n",
       "      <td>2008</td>\n",
       "      <td>1:58</td>\n",
       "      <td>2</td>\n",
       "    </tr>\n",
       "    <tr>\n",
       "      <th>23</th>\n",
       "      <td>KO (Punch)</td>\n",
       "      <td>WIN</td>\n",
       "      <td>2008</td>\n",
       "      <td>0:36</td>\n",
       "      <td>1</td>\n",
       "    </tr>\n",
       "    <tr>\n",
       "      <th>24</th>\n",
       "      <td>TKO (Punches)</td>\n",
       "      <td>WIN</td>\n",
       "      <td>2008</td>\n",
       "      <td>0:14</td>\n",
       "      <td>1</td>\n",
       "    </tr>\n",
       "    <tr>\n",
       "      <th>25</th>\n",
       "      <td>Submission (Guillotine Choke)</td>\n",
       "      <td>WIN</td>\n",
       "      <td>2008</td>\n",
       "      <td>1:15</td>\n",
       "      <td>1</td>\n",
       "    </tr>\n",
       "    <tr>\n",
       "      <th>26</th>\n",
       "      <td>KO (Punches)</td>\n",
       "      <td>WIN</td>\n",
       "      <td>2008</td>\n",
       "      <td>0:24</td>\n",
       "      <td>3</td>\n",
       "    </tr>\n",
       "    <tr>\n",
       "      <th>27</th>\n",
       "      <td>TKO (Punches)</td>\n",
       "      <td>WIN</td>\n",
       "      <td>2008</td>\n",
       "      <td>1:32</td>\n",
       "      <td>1</td>\n",
       "    </tr>\n",
       "  </tbody>\n",
       "</table>\n",
       "</div>"
      ],
      "text/plain": [
       "                          Methode_finission resultat Date_combat Durée_combat  \\\n",
       "0                      Decision (Unanimous)      WIN        2020         5:00   \n",
       "1                          Decision (Split)      WIN        2019         5:00   \n",
       "2                      Decision (Unanimous)      WIN        2019         5:00   \n",
       "3                              KO (Punches)      WIN        2018         2:02   \n",
       "4           No Contest (Overturned by CSAC)       NC        2017         3:01   \n",
       "5                      Decision (Unanimous)      WIN        2016         5:00   \n",
       "6                      Decision (Unanimous)      WIN        2015         5:00   \n",
       "7                      Decision (Unanimous)      WIN        2014         5:00   \n",
       "8                      Decision (Unanimous)      WIN        2013         5:00   \n",
       "9                  TKO (Elbows and Punches)      WIN        2013         4:33   \n",
       "10                     Submission (Keylock)      WIN        2012         0:54   \n",
       "11                     Decision (Unanimous)      WIN        2012         5:00   \n",
       "12  Technical Submission (Guillotine Choke)      WIN        2011         4:26   \n",
       "13            Submission (Rear-Naked Choke)      WIN        2011         1:14   \n",
       "14                  TKO (Punches and Knees)      WIN        2011         2:37   \n",
       "15            Submission (Guillotine Choke)      WIN        2011         4:20   \n",
       "16                             TKO (Elbows)      WIN        2010         1:52   \n",
       "17                 TKO (Elbows and Punches)      WIN        2010         3:19   \n",
       "18        Disqualification (Illegal Elbows)     LOSS        2009         4:14   \n",
       "19            Submission (Guillotine Choke)      WIN        2009         2:43   \n",
       "20                     Decision (Unanimous)      WIN        2009         5:00   \n",
       "21                     Decision (Unanimous)      WIN        2008         5:00   \n",
       "22                            TKO (Punches)      WIN        2008         1:58   \n",
       "23                               KO (Punch)      WIN        2008         0:36   \n",
       "24                            TKO (Punches)      WIN        2008         0:14   \n",
       "25            Submission (Guillotine Choke)      WIN        2008         1:15   \n",
       "26                             KO (Punches)      WIN        2008         0:24   \n",
       "27                            TKO (Punches)      WIN        2008         1:32   \n",
       "\n",
       "   Round_final  \n",
       "0            5  \n",
       "1            5  \n",
       "2            5  \n",
       "3            3  \n",
       "4            3  \n",
       "5            5  \n",
       "6            5  \n",
       "7            5  \n",
       "8            5  \n",
       "9            1  \n",
       "10           4  \n",
       "11           5  \n",
       "12           2  \n",
       "13           4  \n",
       "14           3  \n",
       "15           2  \n",
       "16           1  \n",
       "17           1  \n",
       "18           1  \n",
       "19           2  \n",
       "20           3  \n",
       "21           3  \n",
       "22           2  \n",
       "23           1  \n",
       "24           1  \n",
       "25           1  \n",
       "26           3  \n",
       "27           1  "
      ]
     },
     "execution_count": 20,
     "metadata": {},
     "output_type": "execute_result"
    }
   ],
   "source": [
    "#Création du data frame \n",
    "import pandas as pd\n",
    "  \n",
    "# list of strings\n",
    "\n",
    "# Calling DataFrame constructor after zipping\n",
    "# both lists, with columns specified\n",
    "df = pd.DataFrame(list(zip(k,a,d,t,r)),\n",
    "               columns =['Methode_finission', 'resultat','Date_combat','Durée_combat','Round_final'])\n",
    "df"
   ]
  },
  {
   "cell_type": "code",
   "execution_count": 21,
   "metadata": {},
   "outputs": [],
   "source": [
    "df['date_naissance']= dtnai[-4:]"
   ]
  },
  {
   "cell_type": "code",
   "execution_count": 22,
   "metadata": {},
   "outputs": [],
   "source": [
    "i = 0\n",
    "op= []\n",
    "while i <len(T):\n",
    "    if T[i].find(\"/\") != -1:\n",
    "        op.append(T[i][-4:])   \n",
    "    i+=1"
   ]
  },
  {
   "cell_type": "code",
   "execution_count": 23,
   "metadata": {},
   "outputs": [],
   "source": [
    "df['Année_combat']=op"
   ]
  },
  {
   "cell_type": "code",
   "execution_count": 24,
   "metadata": {},
   "outputs": [],
   "source": [
    "df['Age']= df['Année_combat'].astype(int) - df['date_naissance'].astype(int)"
   ]
  },
  {
   "cell_type": "code",
   "execution_count": 25,
   "metadata": {},
   "outputs": [],
   "source": [
    "df['Catégorie'] = C[1]"
   ]
  },
  {
   "cell_type": "code",
   "execution_count": 26,
   "metadata": {},
   "outputs": [],
   "source": [
    "df['Nom'] = nom"
   ]
  },
  {
   "cell_type": "code",
   "execution_count": null,
   "metadata": {},
   "outputs": [],
   "source": [
    "df['Civilité'] = 'Homme'"
   ]
  },
  {
   "cell_type": "code",
   "execution_count": 29,
   "metadata": {},
   "outputs": [],
   "source": [
    "df.to_excel(\"Jon jones.xlsx\")  "
   ]
  },
  {
   "cell_type": "code",
   "execution_count": null,
   "metadata": {},
   "outputs": [],
   "source": []
  }
 ],
 "metadata": {
  "kernelspec": {
   "display_name": "Python 3 (ipykernel)",
   "language": "python",
   "name": "python3"
  },
  "language_info": {
   "codemirror_mode": {
    "name": "ipython",
    "version": 3
   },
   "file_extension": ".py",
   "mimetype": "text/x-python",
   "name": "python",
   "nbconvert_exporter": "python",
   "pygments_lexer": "ipython3",
   "version": "3.8.13"
  }
 },
 "nbformat": 4,
 "nbformat_minor": 4
}
