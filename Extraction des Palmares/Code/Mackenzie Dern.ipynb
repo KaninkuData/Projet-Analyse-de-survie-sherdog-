{
 "cells": [
  {
   "cell_type": "markdown",
   "metadata": {},
   "source": [
    "# Extraction du palmarès de Mackenzie Dern"
   ]
  },
  {
   "cell_type": "code",
   "execution_count": 1,
   "metadata": {},
   "outputs": [],
   "source": [
    "from selenium import webdriver\n",
    "from selenium.webdriver.common.keys import Keys\n",
    "from selenium.webdriver.support import expected_conditions as EC\n",
    "from selenium.webdriver.common.by import By\n",
    "from selenium.webdriver.support.wait import WebDriverWait"
   ]
  },
  {
   "cell_type": "code",
   "execution_count": 2,
   "metadata": {},
   "outputs": [
    {
     "name": "stderr",
     "output_type": "stream",
     "text": [
      "C:\\Users\\ktshilombo\\AppData\\Local\\Temp\\ipykernel_31784\\1317801565.py:1: DeprecationWarning: executable_path has been deprecated, please pass in a Service object\n",
      "  driver = webdriver.Chrome('C:/Users/ktshilombo/chromedriver/chromedriver.exe')\n"
     ]
    }
   ],
   "source": [
    "driver = webdriver.Chrome('C:/Users/ktshilombo/chromedriver/chromedriver.exe')\n",
    "driver.get(\"https://www.sherdog.com/fighter/Mackenzie-Dern-137171\")"
   ]
  },
  {
   "cell_type": "code",
   "execution_count": 3,
   "metadata": {},
   "outputs": [],
   "source": [
    "#Cliquer sur en savoir plus\n",
    "not_now = WebDriverWait(driver, 10).until(EC.element_to_be_clickable((By.XPATH, '//button[contains(text(), \"En savoir plus pour accepter les préférences 1/3\")]'))).click()\n",
    "#Cliquer sur tout accepter\n",
    "not_now = WebDriverWait(driver, 10).until(EC.element_to_be_clickable((By.XPATH, '//button[contains(text(), \"Tout accepter\")]'))).click()\n"
   ]
  },
  {
   "cell_type": "code",
   "execution_count": 4,
   "metadata": {},
   "outputs": [
    {
     "name": "stdout",
     "output_type": "stream",
     "text": [
      "Decision (Split)\n",
      "Decision (Unanimous)\n",
      "Submission (Armbar)\n",
      "Decision (Unanimous)\n",
      "Submission (Armbar)\n",
      "Submission (Kneebar)\n",
      "Decision (Unanimous)\n",
      "Submission (Rear-Naked Choke)\n",
      "Decision (Split)\n",
      "Submission (Armbar)\n",
      "Submission (Rear-Naked Choke)\n",
      "Decision (Unanimous)\n",
      "Submission (Rear-Naked Choke)\n",
      "Decision (Unanimous)\n"
     ]
    }
   ],
   "source": [
    "for form_body in driver.find_elements(By.CSS_SELECTOR, \"td[class='winby'] b\"):\n",
    "    print(form_body.text)"
   ]
  },
  {
   "cell_type": "code",
   "execution_count": 5,
   "metadata": {},
   "outputs": [],
   "source": [
    "k = []\n",
    "for form_body in driver.find_elements(By.CSS_SELECTOR, \"td[class='winby'] b\"):\n",
    "    k.append(form_body.text)"
   ]
  },
  {
   "cell_type": "code",
   "execution_count": 6,
   "metadata": {},
   "outputs": [
    {
     "data": {
      "text/plain": [
       "['Decision (Split)',\n",
       " 'Decision (Unanimous)',\n",
       " 'Submission (Armbar)',\n",
       " 'Decision (Unanimous)',\n",
       " 'Submission (Armbar)',\n",
       " 'Submission (Kneebar)',\n",
       " 'Decision (Unanimous)',\n",
       " 'Submission (Rear-Naked Choke)',\n",
       " 'Decision (Split)',\n",
       " 'Submission (Armbar)',\n",
       " 'Submission (Rear-Naked Choke)',\n",
       " 'Decision (Unanimous)',\n",
       " 'Submission (Rear-Naked Choke)',\n",
       " 'Decision (Unanimous)']"
      ]
     },
     "execution_count": 6,
     "metadata": {},
     "output_type": "execute_result"
    }
   ],
   "source": [
    "#Forme du resultat\n",
    "k"
   ]
  },
  {
   "cell_type": "code",
   "execution_count": 7,
   "metadata": {},
   "outputs": [],
   "source": [
    "a = []\n",
    "for form in driver.find_elements(By.CSS_SELECTOR, \"span[class *='final']\"):\n",
    "    a.append(form.text)"
   ]
  },
  {
   "cell_type": "code",
   "execution_count": 8,
   "metadata": {},
   "outputs": [
    {
     "data": {
      "text/plain": [
       "['WIN',\n",
       " 'LOSS',\n",
       " 'WIN',\n",
       " 'WIN',\n",
       " 'WIN',\n",
       " 'WIN',\n",
       " 'LOSS',\n",
       " 'WIN',\n",
       " 'WIN',\n",
       " 'WIN',\n",
       " 'WIN',\n",
       " 'WIN',\n",
       " 'WIN',\n",
       " 'WIN']"
      ]
     },
     "execution_count": 8,
     "metadata": {},
     "output_type": "execute_result"
    }
   ],
   "source": [
    "#Résultat\n",
    "a"
   ]
  },
  {
   "cell_type": "code",
   "execution_count": 9,
   "metadata": {},
   "outputs": [],
   "source": [
    "#Date de combat\n",
    "T = []\n",
    "for date in driver.find_elements(By.CSS_SELECTOR, \"span[class='sub_line']\"):\n",
    "    T.append(date.text)"
   ]
  },
  {
   "cell_type": "code",
   "execution_count": 10,
   "metadata": {},
   "outputs": [
    {
     "data": {
      "text/plain": [
       "['2022',\n",
       " '2021',\n",
       " '2021',\n",
       " '2020',\n",
       " '2020',\n",
       " '2020',\n",
       " '2019',\n",
       " '2018',\n",
       " '2018',\n",
       " '2017',\n",
       " '2017',\n",
       " '2017',\n",
       " '2016',\n",
       " '2016']"
      ]
     },
     "execution_count": 10,
     "metadata": {},
     "output_type": "execute_result"
    }
   ],
   "source": [
    "i = 0\n",
    "d= []\n",
    "while i <len(T):\n",
    "    if T[i].find(\"/\") != -1:\n",
    "        d.append(T[i][-4:])   \n",
    "    i+=1\n",
    "d"
   ]
  },
  {
   "cell_type": "code",
   "execution_count": 11,
   "metadata": {},
   "outputs": [],
   "source": [
    "#Temps de combat\n",
    "t = []\n",
    "for form_body in driver.find_elements(By.XPATH,\"//tbody/tr/td[6]\"):\n",
    "    t.append(form_body.text)"
   ]
  },
  {
   "cell_type": "code",
   "execution_count": 12,
   "metadata": {},
   "outputs": [
    {
     "data": {
      "text/plain": [
       "['5:00',\n",
       " '5:00',\n",
       " '4:48',\n",
       " '5:00',\n",
       " '3:44',\n",
       " '2:36',\n",
       " '5:00',\n",
       " '2:27',\n",
       " '5:00',\n",
       " '4:45',\n",
       " '2:55',\n",
       " '5:00',\n",
       " '3:25',\n",
       " '5:00']"
      ]
     },
     "execution_count": 12,
     "metadata": {},
     "output_type": "execute_result"
    }
   ],
   "source": [
    "t.pop(0)\n",
    "t"
   ]
  },
  {
   "cell_type": "code",
   "execution_count": 13,
   "metadata": {},
   "outputs": [],
   "source": [
    "#Round\n",
    "r =[]\n",
    "for form_body in driver.find_elements(By.XPATH,\"//tbody/tr/td[5]\"):\n",
    "    r.append(form_body.text)    "
   ]
  },
  {
   "cell_type": "code",
   "execution_count": 14,
   "metadata": {},
   "outputs": [
    {
     "data": {
      "text/plain": [
       "['3', '5', '1', '3', '1', '1', '3', '1', '3', '3', '1', '3', '1', '3']"
      ]
     },
     "execution_count": 14,
     "metadata": {},
     "output_type": "execute_result"
    }
   ],
   "source": [
    "r.pop(0)\n",
    "r"
   ]
  },
  {
   "cell_type": "code",
   "execution_count": 15,
   "metadata": {},
   "outputs": [],
   "source": [
    "#Catégorie\n",
    "C = []\n",
    "for date in driver.find_elements(By.CSS_SELECTOR, '[class=\"association-class\"] a'):\n",
    "    C.append(date.text)"
   ]
  },
  {
   "cell_type": "code",
   "execution_count": 16,
   "metadata": {},
   "outputs": [
    {
     "data": {
      "text/plain": [
       "'STRAWWEIGHT'"
      ]
     },
     "execution_count": 16,
     "metadata": {},
     "output_type": "execute_result"
    }
   ],
   "source": [
    "C[1]"
   ]
  },
  {
   "cell_type": "code",
   "execution_count": 17,
   "metadata": {},
   "outputs": [],
   "source": [
    "#Date de naissance\n",
    "dtnai = driver.find_element(By.CSS_SELECTOR, 'span[itemprop=\"birthDate\"]').text"
   ]
  },
  {
   "cell_type": "code",
   "execution_count": 18,
   "metadata": {},
   "outputs": [],
   "source": [
    "#Nom et prénom\n",
    "nom = driver.find_element(By.CSS_SELECTOR, 'span[class=\"fn\"]').text"
   ]
  },
  {
   "cell_type": "code",
   "execution_count": 19,
   "metadata": {},
   "outputs": [
    {
     "data": {
      "text/html": [
       "<div>\n",
       "<style scoped>\n",
       "    .dataframe tbody tr th:only-of-type {\n",
       "        vertical-align: middle;\n",
       "    }\n",
       "\n",
       "    .dataframe tbody tr th {\n",
       "        vertical-align: top;\n",
       "    }\n",
       "\n",
       "    .dataframe thead th {\n",
       "        text-align: right;\n",
       "    }\n",
       "</style>\n",
       "<table border=\"1\" class=\"dataframe\">\n",
       "  <thead>\n",
       "    <tr style=\"text-align: right;\">\n",
       "      <th></th>\n",
       "      <th>Methode_finission</th>\n",
       "      <th>resultat</th>\n",
       "      <th>Date_combat</th>\n",
       "      <th>Durée_combat</th>\n",
       "      <th>Round_final</th>\n",
       "    </tr>\n",
       "  </thead>\n",
       "  <tbody>\n",
       "    <tr>\n",
       "      <th>0</th>\n",
       "      <td>Decision (Split)</td>\n",
       "      <td>WIN</td>\n",
       "      <td>2022</td>\n",
       "      <td>5:00</td>\n",
       "      <td>3</td>\n",
       "    </tr>\n",
       "    <tr>\n",
       "      <th>1</th>\n",
       "      <td>Decision (Unanimous)</td>\n",
       "      <td>LOSS</td>\n",
       "      <td>2021</td>\n",
       "      <td>5:00</td>\n",
       "      <td>5</td>\n",
       "    </tr>\n",
       "    <tr>\n",
       "      <th>2</th>\n",
       "      <td>Submission (Armbar)</td>\n",
       "      <td>WIN</td>\n",
       "      <td>2021</td>\n",
       "      <td>4:48</td>\n",
       "      <td>1</td>\n",
       "    </tr>\n",
       "    <tr>\n",
       "      <th>3</th>\n",
       "      <td>Decision (Unanimous)</td>\n",
       "      <td>WIN</td>\n",
       "      <td>2020</td>\n",
       "      <td>5:00</td>\n",
       "      <td>3</td>\n",
       "    </tr>\n",
       "    <tr>\n",
       "      <th>4</th>\n",
       "      <td>Submission (Armbar)</td>\n",
       "      <td>WIN</td>\n",
       "      <td>2020</td>\n",
       "      <td>3:44</td>\n",
       "      <td>1</td>\n",
       "    </tr>\n",
       "    <tr>\n",
       "      <th>5</th>\n",
       "      <td>Submission (Kneebar)</td>\n",
       "      <td>WIN</td>\n",
       "      <td>2020</td>\n",
       "      <td>2:36</td>\n",
       "      <td>1</td>\n",
       "    </tr>\n",
       "    <tr>\n",
       "      <th>6</th>\n",
       "      <td>Decision (Unanimous)</td>\n",
       "      <td>LOSS</td>\n",
       "      <td>2019</td>\n",
       "      <td>5:00</td>\n",
       "      <td>3</td>\n",
       "    </tr>\n",
       "    <tr>\n",
       "      <th>7</th>\n",
       "      <td>Submission (Rear-Naked Choke)</td>\n",
       "      <td>WIN</td>\n",
       "      <td>2018</td>\n",
       "      <td>2:27</td>\n",
       "      <td>1</td>\n",
       "    </tr>\n",
       "    <tr>\n",
       "      <th>8</th>\n",
       "      <td>Decision (Split)</td>\n",
       "      <td>WIN</td>\n",
       "      <td>2018</td>\n",
       "      <td>5:00</td>\n",
       "      <td>3</td>\n",
       "    </tr>\n",
       "    <tr>\n",
       "      <th>9</th>\n",
       "      <td>Submission (Armbar)</td>\n",
       "      <td>WIN</td>\n",
       "      <td>2017</td>\n",
       "      <td>4:45</td>\n",
       "      <td>3</td>\n",
       "    </tr>\n",
       "    <tr>\n",
       "      <th>10</th>\n",
       "      <td>Submission (Rear-Naked Choke)</td>\n",
       "      <td>WIN</td>\n",
       "      <td>2017</td>\n",
       "      <td>2:55</td>\n",
       "      <td>1</td>\n",
       "    </tr>\n",
       "    <tr>\n",
       "      <th>11</th>\n",
       "      <td>Decision (Unanimous)</td>\n",
       "      <td>WIN</td>\n",
       "      <td>2017</td>\n",
       "      <td>5:00</td>\n",
       "      <td>3</td>\n",
       "    </tr>\n",
       "    <tr>\n",
       "      <th>12</th>\n",
       "      <td>Submission (Rear-Naked Choke)</td>\n",
       "      <td>WIN</td>\n",
       "      <td>2016</td>\n",
       "      <td>3:25</td>\n",
       "      <td>1</td>\n",
       "    </tr>\n",
       "    <tr>\n",
       "      <th>13</th>\n",
       "      <td>Decision (Unanimous)</td>\n",
       "      <td>WIN</td>\n",
       "      <td>2016</td>\n",
       "      <td>5:00</td>\n",
       "      <td>3</td>\n",
       "    </tr>\n",
       "  </tbody>\n",
       "</table>\n",
       "</div>"
      ],
      "text/plain": [
       "                Methode_finission resultat Date_combat Durée_combat  \\\n",
       "0                Decision (Split)      WIN        2022         5:00   \n",
       "1            Decision (Unanimous)     LOSS        2021         5:00   \n",
       "2             Submission (Armbar)      WIN        2021         4:48   \n",
       "3            Decision (Unanimous)      WIN        2020         5:00   \n",
       "4             Submission (Armbar)      WIN        2020         3:44   \n",
       "5            Submission (Kneebar)      WIN        2020         2:36   \n",
       "6            Decision (Unanimous)     LOSS        2019         5:00   \n",
       "7   Submission (Rear-Naked Choke)      WIN        2018         2:27   \n",
       "8                Decision (Split)      WIN        2018         5:00   \n",
       "9             Submission (Armbar)      WIN        2017         4:45   \n",
       "10  Submission (Rear-Naked Choke)      WIN        2017         2:55   \n",
       "11           Decision (Unanimous)      WIN        2017         5:00   \n",
       "12  Submission (Rear-Naked Choke)      WIN        2016         3:25   \n",
       "13           Decision (Unanimous)      WIN        2016         5:00   \n",
       "\n",
       "   Round_final  \n",
       "0            3  \n",
       "1            5  \n",
       "2            1  \n",
       "3            3  \n",
       "4            1  \n",
       "5            1  \n",
       "6            3  \n",
       "7            1  \n",
       "8            3  \n",
       "9            3  \n",
       "10           1  \n",
       "11           3  \n",
       "12           1  \n",
       "13           3  "
      ]
     },
     "execution_count": 19,
     "metadata": {},
     "output_type": "execute_result"
    }
   ],
   "source": [
    "#Création du data frame \n",
    "import pandas as pd\n",
    "  \n",
    "# list of strings\n",
    "\n",
    "# Calling DataFrame constructor after zipping\n",
    "# both lists, with columns specified\n",
    "df = pd.DataFrame(list(zip(k,a,d,t,r)),\n",
    "               columns =['Methode_finission', 'resultat','Date_combat','Durée_combat','Round_final'])\n",
    "df"
   ]
  },
  {
   "cell_type": "code",
   "execution_count": 20,
   "metadata": {},
   "outputs": [],
   "source": [
    "df['date_naissance']= dtnai[-4:]"
   ]
  },
  {
   "cell_type": "code",
   "execution_count": 21,
   "metadata": {},
   "outputs": [],
   "source": [
    "i = 0\n",
    "op= []\n",
    "while i <len(T):\n",
    "    if T[i].find(\"/\") != -1:\n",
    "        op.append(T[i][-4:])   \n",
    "    i+=1"
   ]
  },
  {
   "cell_type": "code",
   "execution_count": 22,
   "metadata": {},
   "outputs": [],
   "source": [
    "df['Année_combat']=op"
   ]
  },
  {
   "cell_type": "code",
   "execution_count": 23,
   "metadata": {},
   "outputs": [],
   "source": [
    "df['Age']= df['Année_combat'].astype(int) - df['date_naissance'].astype(int)"
   ]
  },
  {
   "cell_type": "code",
   "execution_count": 24,
   "metadata": {},
   "outputs": [],
   "source": [
    "df['Catégorie'] = C[1]"
   ]
  },
  {
   "cell_type": "code",
   "execution_count": 25,
   "metadata": {},
   "outputs": [],
   "source": [
    "df['Nom'] = nom"
   ]
  },
  {
   "cell_type": "code",
   "execution_count": null,
   "metadata": {},
   "outputs": [],
   "source": [
    "df['Civilité'] = 'Femme'"
   ]
  },
  {
   "cell_type": "code",
   "execution_count": 26,
   "metadata": {},
   "outputs": [
    {
     "data": {
      "text/html": [
       "<div>\n",
       "<style scoped>\n",
       "    .dataframe tbody tr th:only-of-type {\n",
       "        vertical-align: middle;\n",
       "    }\n",
       "\n",
       "    .dataframe tbody tr th {\n",
       "        vertical-align: top;\n",
       "    }\n",
       "\n",
       "    .dataframe thead th {\n",
       "        text-align: right;\n",
       "    }\n",
       "</style>\n",
       "<table border=\"1\" class=\"dataframe\">\n",
       "  <thead>\n",
       "    <tr style=\"text-align: right;\">\n",
       "      <th></th>\n",
       "      <th>Methode_finission</th>\n",
       "      <th>resultat</th>\n",
       "      <th>Date_combat</th>\n",
       "      <th>Durée_combat</th>\n",
       "      <th>Round_final</th>\n",
       "      <th>date_naissance</th>\n",
       "      <th>Année_combat</th>\n",
       "      <th>Age</th>\n",
       "      <th>Catégorie</th>\n",
       "      <th>Nom</th>\n",
       "    </tr>\n",
       "  </thead>\n",
       "  <tbody>\n",
       "    <tr>\n",
       "      <th>0</th>\n",
       "      <td>Decision (Split)</td>\n",
       "      <td>WIN</td>\n",
       "      <td>2022</td>\n",
       "      <td>5:00</td>\n",
       "      <td>3</td>\n",
       "      <td>1993</td>\n",
       "      <td>2022</td>\n",
       "      <td>29</td>\n",
       "      <td>STRAWWEIGHT</td>\n",
       "      <td>MACKENZIE DERN</td>\n",
       "    </tr>\n",
       "    <tr>\n",
       "      <th>1</th>\n",
       "      <td>Decision (Unanimous)</td>\n",
       "      <td>LOSS</td>\n",
       "      <td>2021</td>\n",
       "      <td>5:00</td>\n",
       "      <td>5</td>\n",
       "      <td>1993</td>\n",
       "      <td>2021</td>\n",
       "      <td>28</td>\n",
       "      <td>STRAWWEIGHT</td>\n",
       "      <td>MACKENZIE DERN</td>\n",
       "    </tr>\n",
       "    <tr>\n",
       "      <th>2</th>\n",
       "      <td>Submission (Armbar)</td>\n",
       "      <td>WIN</td>\n",
       "      <td>2021</td>\n",
       "      <td>4:48</td>\n",
       "      <td>1</td>\n",
       "      <td>1993</td>\n",
       "      <td>2021</td>\n",
       "      <td>28</td>\n",
       "      <td>STRAWWEIGHT</td>\n",
       "      <td>MACKENZIE DERN</td>\n",
       "    </tr>\n",
       "    <tr>\n",
       "      <th>3</th>\n",
       "      <td>Decision (Unanimous)</td>\n",
       "      <td>WIN</td>\n",
       "      <td>2020</td>\n",
       "      <td>5:00</td>\n",
       "      <td>3</td>\n",
       "      <td>1993</td>\n",
       "      <td>2020</td>\n",
       "      <td>27</td>\n",
       "      <td>STRAWWEIGHT</td>\n",
       "      <td>MACKENZIE DERN</td>\n",
       "    </tr>\n",
       "    <tr>\n",
       "      <th>4</th>\n",
       "      <td>Submission (Armbar)</td>\n",
       "      <td>WIN</td>\n",
       "      <td>2020</td>\n",
       "      <td>3:44</td>\n",
       "      <td>1</td>\n",
       "      <td>1993</td>\n",
       "      <td>2020</td>\n",
       "      <td>27</td>\n",
       "      <td>STRAWWEIGHT</td>\n",
       "      <td>MACKENZIE DERN</td>\n",
       "    </tr>\n",
       "    <tr>\n",
       "      <th>5</th>\n",
       "      <td>Submission (Kneebar)</td>\n",
       "      <td>WIN</td>\n",
       "      <td>2020</td>\n",
       "      <td>2:36</td>\n",
       "      <td>1</td>\n",
       "      <td>1993</td>\n",
       "      <td>2020</td>\n",
       "      <td>27</td>\n",
       "      <td>STRAWWEIGHT</td>\n",
       "      <td>MACKENZIE DERN</td>\n",
       "    </tr>\n",
       "    <tr>\n",
       "      <th>6</th>\n",
       "      <td>Decision (Unanimous)</td>\n",
       "      <td>LOSS</td>\n",
       "      <td>2019</td>\n",
       "      <td>5:00</td>\n",
       "      <td>3</td>\n",
       "      <td>1993</td>\n",
       "      <td>2019</td>\n",
       "      <td>26</td>\n",
       "      <td>STRAWWEIGHT</td>\n",
       "      <td>MACKENZIE DERN</td>\n",
       "    </tr>\n",
       "    <tr>\n",
       "      <th>7</th>\n",
       "      <td>Submission (Rear-Naked Choke)</td>\n",
       "      <td>WIN</td>\n",
       "      <td>2018</td>\n",
       "      <td>2:27</td>\n",
       "      <td>1</td>\n",
       "      <td>1993</td>\n",
       "      <td>2018</td>\n",
       "      <td>25</td>\n",
       "      <td>STRAWWEIGHT</td>\n",
       "      <td>MACKENZIE DERN</td>\n",
       "    </tr>\n",
       "    <tr>\n",
       "      <th>8</th>\n",
       "      <td>Decision (Split)</td>\n",
       "      <td>WIN</td>\n",
       "      <td>2018</td>\n",
       "      <td>5:00</td>\n",
       "      <td>3</td>\n",
       "      <td>1993</td>\n",
       "      <td>2018</td>\n",
       "      <td>25</td>\n",
       "      <td>STRAWWEIGHT</td>\n",
       "      <td>MACKENZIE DERN</td>\n",
       "    </tr>\n",
       "    <tr>\n",
       "      <th>9</th>\n",
       "      <td>Submission (Armbar)</td>\n",
       "      <td>WIN</td>\n",
       "      <td>2017</td>\n",
       "      <td>4:45</td>\n",
       "      <td>3</td>\n",
       "      <td>1993</td>\n",
       "      <td>2017</td>\n",
       "      <td>24</td>\n",
       "      <td>STRAWWEIGHT</td>\n",
       "      <td>MACKENZIE DERN</td>\n",
       "    </tr>\n",
       "    <tr>\n",
       "      <th>10</th>\n",
       "      <td>Submission (Rear-Naked Choke)</td>\n",
       "      <td>WIN</td>\n",
       "      <td>2017</td>\n",
       "      <td>2:55</td>\n",
       "      <td>1</td>\n",
       "      <td>1993</td>\n",
       "      <td>2017</td>\n",
       "      <td>24</td>\n",
       "      <td>STRAWWEIGHT</td>\n",
       "      <td>MACKENZIE DERN</td>\n",
       "    </tr>\n",
       "    <tr>\n",
       "      <th>11</th>\n",
       "      <td>Decision (Unanimous)</td>\n",
       "      <td>WIN</td>\n",
       "      <td>2017</td>\n",
       "      <td>5:00</td>\n",
       "      <td>3</td>\n",
       "      <td>1993</td>\n",
       "      <td>2017</td>\n",
       "      <td>24</td>\n",
       "      <td>STRAWWEIGHT</td>\n",
       "      <td>MACKENZIE DERN</td>\n",
       "    </tr>\n",
       "    <tr>\n",
       "      <th>12</th>\n",
       "      <td>Submission (Rear-Naked Choke)</td>\n",
       "      <td>WIN</td>\n",
       "      <td>2016</td>\n",
       "      <td>3:25</td>\n",
       "      <td>1</td>\n",
       "      <td>1993</td>\n",
       "      <td>2016</td>\n",
       "      <td>23</td>\n",
       "      <td>STRAWWEIGHT</td>\n",
       "      <td>MACKENZIE DERN</td>\n",
       "    </tr>\n",
       "    <tr>\n",
       "      <th>13</th>\n",
       "      <td>Decision (Unanimous)</td>\n",
       "      <td>WIN</td>\n",
       "      <td>2016</td>\n",
       "      <td>5:00</td>\n",
       "      <td>3</td>\n",
       "      <td>1993</td>\n",
       "      <td>2016</td>\n",
       "      <td>23</td>\n",
       "      <td>STRAWWEIGHT</td>\n",
       "      <td>MACKENZIE DERN</td>\n",
       "    </tr>\n",
       "  </tbody>\n",
       "</table>\n",
       "</div>"
      ],
      "text/plain": [
       "                Methode_finission resultat Date_combat Durée_combat  \\\n",
       "0                Decision (Split)      WIN        2022         5:00   \n",
       "1            Decision (Unanimous)     LOSS        2021         5:00   \n",
       "2             Submission (Armbar)      WIN        2021         4:48   \n",
       "3            Decision (Unanimous)      WIN        2020         5:00   \n",
       "4             Submission (Armbar)      WIN        2020         3:44   \n",
       "5            Submission (Kneebar)      WIN        2020         2:36   \n",
       "6            Decision (Unanimous)     LOSS        2019         5:00   \n",
       "7   Submission (Rear-Naked Choke)      WIN        2018         2:27   \n",
       "8                Decision (Split)      WIN        2018         5:00   \n",
       "9             Submission (Armbar)      WIN        2017         4:45   \n",
       "10  Submission (Rear-Naked Choke)      WIN        2017         2:55   \n",
       "11           Decision (Unanimous)      WIN        2017         5:00   \n",
       "12  Submission (Rear-Naked Choke)      WIN        2016         3:25   \n",
       "13           Decision (Unanimous)      WIN        2016         5:00   \n",
       "\n",
       "   Round_final date_naissance Année_combat  Age    Catégorie             Nom  \n",
       "0            3           1993         2022   29  STRAWWEIGHT  MACKENZIE DERN  \n",
       "1            5           1993         2021   28  STRAWWEIGHT  MACKENZIE DERN  \n",
       "2            1           1993         2021   28  STRAWWEIGHT  MACKENZIE DERN  \n",
       "3            3           1993         2020   27  STRAWWEIGHT  MACKENZIE DERN  \n",
       "4            1           1993         2020   27  STRAWWEIGHT  MACKENZIE DERN  \n",
       "5            1           1993         2020   27  STRAWWEIGHT  MACKENZIE DERN  \n",
       "6            3           1993         2019   26  STRAWWEIGHT  MACKENZIE DERN  \n",
       "7            1           1993         2018   25  STRAWWEIGHT  MACKENZIE DERN  \n",
       "8            3           1993         2018   25  STRAWWEIGHT  MACKENZIE DERN  \n",
       "9            3           1993         2017   24  STRAWWEIGHT  MACKENZIE DERN  \n",
       "10           1           1993         2017   24  STRAWWEIGHT  MACKENZIE DERN  \n",
       "11           3           1993         2017   24  STRAWWEIGHT  MACKENZIE DERN  \n",
       "12           1           1993         2016   23  STRAWWEIGHT  MACKENZIE DERN  \n",
       "13           3           1993         2016   23  STRAWWEIGHT  MACKENZIE DERN  "
      ]
     },
     "execution_count": 26,
     "metadata": {},
     "output_type": "execute_result"
    }
   ],
   "source": [
    "df"
   ]
  },
  {
   "cell_type": "code",
   "execution_count": 28,
   "metadata": {},
   "outputs": [],
   "source": [
    "df.to_excel(\"Mackenzie Dern.xlsx\")  "
   ]
  },
  {
   "cell_type": "code",
   "execution_count": null,
   "metadata": {},
   "outputs": [],
   "source": []
  }
 ],
 "metadata": {
  "kernelspec": {
   "display_name": "Python 3 (ipykernel)",
   "language": "python",
   "name": "python3"
  },
  "language_info": {
   "codemirror_mode": {
    "name": "ipython",
    "version": 3
   },
   "file_extension": ".py",
   "mimetype": "text/x-python",
   "name": "python",
   "nbconvert_exporter": "python",
   "pygments_lexer": "ipython3",
   "version": "3.8.13"
  }
 },
 "nbformat": 4,
 "nbformat_minor": 4
}
