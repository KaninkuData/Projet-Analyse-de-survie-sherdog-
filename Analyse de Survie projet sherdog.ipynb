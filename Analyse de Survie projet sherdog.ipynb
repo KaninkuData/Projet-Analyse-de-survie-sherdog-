{
 "cells": [
  {
   "cell_type": "markdown",
   "id": "42422d66",
   "metadata": {},
   "source": [
    "# Importation des libraries"
   ]
  },
  {
   "cell_type": "code",
   "execution_count": 85,
   "id": "0bba65c2",
   "metadata": {},
   "outputs": [],
   "source": [
    "import pandasql\n",
    "import pandas as pd\n",
    "import numpy as np\n",
    "import matplotlib.pyplot as plt\n",
    "from lifelines import KaplanMeierFitter\n",
    "from matplotlib.ticker import FuncFormatter\n",
    "from lifelines.statistics import logrank_test\n",
    "from lifelines import CoxPHFitter"
   ]
  },
  {
   "cell_type": "code",
   "execution_count": 86,
   "id": "6c565eb0",
   "metadata": {},
   "outputs": [],
   "source": [
    "df = pd.read_excel('Sherdog_data.xlsx') "
   ]
  },
  {
   "cell_type": "code",
   "execution_count": 87,
   "id": "1fb306db",
   "metadata": {},
   "outputs": [
    {
     "data": {
      "text/html": [
       "<div>\n",
       "<style scoped>\n",
       "    .dataframe tbody tr th:only-of-type {\n",
       "        vertical-align: middle;\n",
       "    }\n",
       "\n",
       "    .dataframe tbody tr th {\n",
       "        vertical-align: top;\n",
       "    }\n",
       "\n",
       "    .dataframe thead th {\n",
       "        text-align: right;\n",
       "    }\n",
       "</style>\n",
       "<table border=\"1\" class=\"dataframe\">\n",
       "  <thead>\n",
       "    <tr style=\"text-align: right;\">\n",
       "      <th></th>\n",
       "      <th>Methode_finission</th>\n",
       "      <th>resultat</th>\n",
       "      <th>Date_combat</th>\n",
       "      <th>Durée_combat</th>\n",
       "      <th>Round_final</th>\n",
       "      <th>date_naissance</th>\n",
       "      <th>Année_combat</th>\n",
       "      <th>Age</th>\n",
       "      <th>Catégorie</th>\n",
       "      <th>Nom</th>\n",
       "      <th>Civilité</th>\n",
       "    </tr>\n",
       "  </thead>\n",
       "  <tbody>\n",
       "    <tr>\n",
       "      <th>0</th>\n",
       "      <td>Decision (Unanimous)</td>\n",
       "      <td>WIN</td>\n",
       "      <td>2022</td>\n",
       "      <td>5:00</td>\n",
       "      <td>5</td>\n",
       "      <td>1988</td>\n",
       "      <td>2022</td>\n",
       "      <td>34</td>\n",
       "      <td>FEATHERWEIGHT</td>\n",
       "      <td>ALEXANDER VOLKANOVSKI</td>\n",
       "      <td>Homme</td>\n",
       "    </tr>\n",
       "    <tr>\n",
       "      <th>1</th>\n",
       "      <td>TKO (Punches)</td>\n",
       "      <td>WIN</td>\n",
       "      <td>2022</td>\n",
       "      <td>0:45</td>\n",
       "      <td>4</td>\n",
       "      <td>1988</td>\n",
       "      <td>2022</td>\n",
       "      <td>34</td>\n",
       "      <td>FEATHERWEIGHT</td>\n",
       "      <td>ALEXANDER VOLKANOVSKI</td>\n",
       "      <td>Homme</td>\n",
       "    </tr>\n",
       "    <tr>\n",
       "      <th>2</th>\n",
       "      <td>Decision (Unanimous)</td>\n",
       "      <td>WIN</td>\n",
       "      <td>2021</td>\n",
       "      <td>5:00</td>\n",
       "      <td>5</td>\n",
       "      <td>1988</td>\n",
       "      <td>2021</td>\n",
       "      <td>33</td>\n",
       "      <td>FEATHERWEIGHT</td>\n",
       "      <td>ALEXANDER VOLKANOVSKI</td>\n",
       "      <td>Homme</td>\n",
       "    </tr>\n",
       "    <tr>\n",
       "      <th>3</th>\n",
       "      <td>Decision (Split)</td>\n",
       "      <td>WIN</td>\n",
       "      <td>2020</td>\n",
       "      <td>5:00</td>\n",
       "      <td>5</td>\n",
       "      <td>1988</td>\n",
       "      <td>2020</td>\n",
       "      <td>32</td>\n",
       "      <td>FEATHERWEIGHT</td>\n",
       "      <td>ALEXANDER VOLKANOVSKI</td>\n",
       "      <td>Homme</td>\n",
       "    </tr>\n",
       "    <tr>\n",
       "      <th>4</th>\n",
       "      <td>Decision (Unanimous)</td>\n",
       "      <td>WIN</td>\n",
       "      <td>2019</td>\n",
       "      <td>5:00</td>\n",
       "      <td>5</td>\n",
       "      <td>1988</td>\n",
       "      <td>2019</td>\n",
       "      <td>31</td>\n",
       "      <td>FEATHERWEIGHT</td>\n",
       "      <td>ALEXANDER VOLKANOVSKI</td>\n",
       "      <td>Homme</td>\n",
       "    </tr>\n",
       "    <tr>\n",
       "      <th>...</th>\n",
       "      <td>...</td>\n",
       "      <td>...</td>\n",
       "      <td>...</td>\n",
       "      <td>...</td>\n",
       "      <td>...</td>\n",
       "      <td>...</td>\n",
       "      <td>...</td>\n",
       "      <td>...</td>\n",
       "      <td>...</td>\n",
       "      <td>...</td>\n",
       "      <td>...</td>\n",
       "    </tr>\n",
       "    <tr>\n",
       "      <th>716</th>\n",
       "      <td>TKO (Doctor Stoppage)</td>\n",
       "      <td>LOSS</td>\n",
       "      <td>2012</td>\n",
       "      <td>5:00</td>\n",
       "      <td>2</td>\n",
       "      <td>1989</td>\n",
       "      <td>2012</td>\n",
       "      <td>23</td>\n",
       "      <td>BANTAMWEIGHT</td>\n",
       "      <td>JULIANNA PENA</td>\n",
       "      <td>Femme</td>\n",
       "    </tr>\n",
       "    <tr>\n",
       "      <th>717</th>\n",
       "      <td>Submission (Guillotine Choke)</td>\n",
       "      <td>WIN</td>\n",
       "      <td>2011</td>\n",
       "      <td>0:17</td>\n",
       "      <td>2</td>\n",
       "      <td>1989</td>\n",
       "      <td>2011</td>\n",
       "      <td>22</td>\n",
       "      <td>BANTAMWEIGHT</td>\n",
       "      <td>JULIANNA PENA</td>\n",
       "      <td>Femme</td>\n",
       "    </tr>\n",
       "    <tr>\n",
       "      <th>718</th>\n",
       "      <td>Submission (Armbar)</td>\n",
       "      <td>WIN</td>\n",
       "      <td>2009</td>\n",
       "      <td>2:54</td>\n",
       "      <td>2</td>\n",
       "      <td>1989</td>\n",
       "      <td>2009</td>\n",
       "      <td>20</td>\n",
       "      <td>BANTAMWEIGHT</td>\n",
       "      <td>JULIANNA PENA</td>\n",
       "      <td>Femme</td>\n",
       "    </tr>\n",
       "    <tr>\n",
       "      <th>719</th>\n",
       "      <td>TKO (Punches)</td>\n",
       "      <td>WIN</td>\n",
       "      <td>2009</td>\n",
       "      <td>NaN</td>\n",
       "      <td>1</td>\n",
       "      <td>1989</td>\n",
       "      <td>2009</td>\n",
       "      <td>20</td>\n",
       "      <td>BANTAMWEIGHT</td>\n",
       "      <td>JULIANNA PENA</td>\n",
       "      <td>Femme</td>\n",
       "    </tr>\n",
       "    <tr>\n",
       "      <th>720</th>\n",
       "      <td>Submission (Rear-Naked Choke)</td>\n",
       "      <td>WIN</td>\n",
       "      <td>2009</td>\n",
       "      <td>2:58</td>\n",
       "      <td>1</td>\n",
       "      <td>1989</td>\n",
       "      <td>2009</td>\n",
       "      <td>20</td>\n",
       "      <td>BANTAMWEIGHT</td>\n",
       "      <td>JULIANNA PENA</td>\n",
       "      <td>Femme</td>\n",
       "    </tr>\n",
       "  </tbody>\n",
       "</table>\n",
       "<p>721 rows × 11 columns</p>\n",
       "</div>"
      ],
      "text/plain": [
       "                 Methode_finission resultat  Date_combat Durée_combat  \\\n",
       "0             Decision (Unanimous)      WIN         2022         5:00   \n",
       "1                    TKO (Punches)      WIN         2022         0:45   \n",
       "2             Decision (Unanimous)      WIN         2021         5:00   \n",
       "3                 Decision (Split)      WIN         2020         5:00   \n",
       "4             Decision (Unanimous)      WIN         2019         5:00   \n",
       "..                             ...      ...          ...          ...   \n",
       "716          TKO (Doctor Stoppage)     LOSS         2012         5:00   \n",
       "717  Submission (Guillotine Choke)      WIN         2011         0:17   \n",
       "718            Submission (Armbar)      WIN         2009         2:54   \n",
       "719                  TKO (Punches)      WIN         2009          NaN   \n",
       "720  Submission (Rear-Naked Choke)      WIN         2009         2:58   \n",
       "\n",
       "     Round_final  date_naissance  Année_combat  Age      Catégorie  \\\n",
       "0              5            1988          2022   34  FEATHERWEIGHT   \n",
       "1              4            1988          2022   34  FEATHERWEIGHT   \n",
       "2              5            1988          2021   33  FEATHERWEIGHT   \n",
       "3              5            1988          2020   32  FEATHERWEIGHT   \n",
       "4              5            1988          2019   31  FEATHERWEIGHT   \n",
       "..           ...             ...           ...  ...            ...   \n",
       "716            2            1989          2012   23   BANTAMWEIGHT   \n",
       "717            2            1989          2011   22   BANTAMWEIGHT   \n",
       "718            2            1989          2009   20   BANTAMWEIGHT   \n",
       "719            1            1989          2009   20   BANTAMWEIGHT   \n",
       "720            1            1989          2009   20   BANTAMWEIGHT   \n",
       "\n",
       "                       Nom Civilité  \n",
       "0    ALEXANDER VOLKANOVSKI    Homme  \n",
       "1    ALEXANDER VOLKANOVSKI    Homme  \n",
       "2    ALEXANDER VOLKANOVSKI    Homme  \n",
       "3    ALEXANDER VOLKANOVSKI    Homme  \n",
       "4    ALEXANDER VOLKANOVSKI    Homme  \n",
       "..                     ...      ...  \n",
       "716          JULIANNA PENA    Femme  \n",
       "717          JULIANNA PENA    Femme  \n",
       "718          JULIANNA PENA    Femme  \n",
       "719          JULIANNA PENA    Femme  \n",
       "720          JULIANNA PENA    Femme  \n",
       "\n",
       "[721 rows x 11 columns]"
      ]
     },
     "execution_count": 87,
     "metadata": {},
     "output_type": "execute_result"
    }
   ],
   "source": [
    "df"
   ]
  },
  {
   "cell_type": "code",
   "execution_count": 88,
   "id": "54165d9c",
   "metadata": {},
   "outputs": [],
   "source": [
    "df['Durée_combat'] = df['Durée_combat'].str.replace(':','.')\n",
    "df = df.dropna()"
   ]
  },
  {
   "cell_type": "markdown",
   "id": "93a860e5",
   "metadata": {},
   "source": [
    "# Préparation des variables pour le model"
   ]
  },
  {
   "cell_type": "code",
   "execution_count": 89,
   "id": "22540466",
   "metadata": {},
   "outputs": [
    {
     "name": "stderr",
     "output_type": "stream",
     "text": [
      "C:\\Users\\ktshilombo\\AppData\\Local\\Temp\\ipykernel_11900\\1954790985.py:1: SettingWithCopyWarning: \n",
      "A value is trying to be set on a copy of a slice from a DataFrame.\n",
      "Try using .loc[row_indexer,col_indexer] = value instead\n",
      "\n",
      "See the caveats in the documentation: https://pandas.pydata.org/pandas-docs/stable/user_guide/indexing.html#returning-a-view-versus-a-copy\n",
      "  df['Durée_combat']= df['Durée_combat'].astype(float)\n"
     ]
    }
   ],
   "source": [
    "df['Durée_combat']= df['Durée_combat'].astype(float)"
   ]
  },
  {
   "cell_type": "code",
   "execution_count": 90,
   "id": "62b47cf8",
   "metadata": {},
   "outputs": [
    {
     "name": "stderr",
     "output_type": "stream",
     "text": [
      "C:\\Users\\ktshilombo\\AppData\\Local\\Temp\\ipykernel_11900\\3188962510.py:2: SettingWithCopyWarning: \n",
      "A value is trying to be set on a copy of a slice from a DataFrame.\n",
      "Try using .loc[row_indexer,col_indexer] = value instead\n",
      "\n",
      "See the caveats in the documentation: https://pandas.pydata.org/pandas-docs/stable/user_guide/indexing.html#returning-a-view-versus-a-copy\n",
      "  df.loc[(df['Round_final'] == 0 ) , 'T'] = (df['Durée_combat'])\n"
     ]
    }
   ],
   "source": [
    "#Création de la variable temps\n",
    "df.loc[(df['Round_final'] == 0 ) , 'T'] = (df['Durée_combat'])\n",
    "df.loc[(df['Round_final'] == 1 ) , 'T'] = (df['Durée_combat'])\n",
    "df.loc[(df['Round_final'] == 2 ) , 'T'] = 5+(df['Durée_combat'])\n",
    "df.loc[(df['Round_final'] == 3 ) , 'T'] = 10+(df['Durée_combat'])\n",
    "df.loc[(df['Round_final'] == 4 ) , 'T'] = 15+(df['Durée_combat'])\n",
    "df.loc[(df['Round_final'] == 5 ) , 'T'] = 20+(df['Durée_combat'])"
   ]
  },
  {
   "cell_type": "code",
   "execution_count": 91,
   "id": "8b26cbe0",
   "metadata": {},
   "outputs": [
    {
     "name": "stderr",
     "output_type": "stream",
     "text": [
      "C:\\Users\\ktshilombo\\AppData\\Local\\Temp\\ipykernel_11900\\2157333890.py:1: SettingWithCopyWarning: \n",
      "A value is trying to be set on a copy of a slice from a DataFrame.\n",
      "Try using .loc[row_indexer,col_indexer] = value instead\n",
      "\n",
      "See the caveats in the documentation: https://pandas.pydata.org/pandas-docs/stable/user_guide/indexing.html#returning-a-view-versus-a-copy\n",
      "  df['Catégorie']=df['Catégorie'].astype('category')\n",
      "C:\\Users\\ktshilombo\\AppData\\Local\\Temp\\ipykernel_11900\\2157333890.py:2: SettingWithCopyWarning: \n",
      "A value is trying to be set on a copy of a slice from a DataFrame.\n",
      "Try using .loc[row_indexer,col_indexer] = value instead\n",
      "\n",
      "See the caveats in the documentation: https://pandas.pydata.org/pandas-docs/stable/user_guide/indexing.html#returning-a-view-versus-a-copy\n",
      "  df['Civilité']=df['Civilité'].astype('category')\n"
     ]
    }
   ],
   "source": [
    "df['Catégorie']=df['Catégorie'].astype('category')\n",
    "df['Civilité']=df['Civilité'].astype('category')"
   ]
  },
  {
   "cell_type": "code",
   "execution_count": 92,
   "id": "40db127b",
   "metadata": {},
   "outputs": [
    {
     "name": "stderr",
     "output_type": "stream",
     "text": [
      "C:\\Users\\ktshilombo\\AppData\\Local\\Temp\\ipykernel_11900\\2566445731.py:2: SettingWithCopyWarning: \n",
      "A value is trying to be set on a copy of a slice from a DataFrame.\n",
      "Try using .loc[row_indexer,col_indexer] = value instead\n",
      "\n",
      "See the caveats in the documentation: https://pandas.pydata.org/pandas-docs/stable/user_guide/indexing.html#returning-a-view-versus-a-copy\n",
      "  df.loc[((df['Methode_finission'].str.contains(\"TKO\")==True)|(df['Methode_finission'].str.contains(\"KO\")==True)|(df['Methode_finission'].str.contains(\"Submission\")==True))&((df['resultat'] =='WIN')==True), 'statu'] =1\n",
      "C:\\Users\\ktshilombo\\AppData\\Local\\Temp\\ipykernel_11900\\2566445731.py:4: SettingWithCopyWarning: \n",
      "A value is trying to be set on a copy of a slice from a DataFrame.\n",
      "Try using .loc[row_indexer,col_indexer] = value instead\n",
      "\n",
      "See the caveats in the documentation: https://pandas.pydata.org/pandas-docs/stable/user_guide/indexing.html#returning-a-view-versus-a-copy\n",
      "  df['statu']= df['statu'].astype(int)\n"
     ]
    }
   ],
   "source": [
    "#Definition de la variable cible\n",
    "df.loc[((df['Methode_finission'].str.contains(\"TKO\")==True)|(df['Methode_finission'].str.contains(\"KO\")==True)|(df['Methode_finission'].str.contains(\"Submission\")==True))&((df['resultat'] =='WIN')==True), 'statu'] =1\n",
    "df.loc[(df['statu'] != 1), 'statu'] = 0\n",
    "df['statu']= df['statu'].astype(int)"
   ]
  },
  {
   "cell_type": "markdown",
   "id": "1e720ff3",
   "metadata": {},
   "source": [
    "# Analyse général "
   ]
  },
  {
   "cell_type": "code",
   "execution_count": 93,
   "id": "af5ae82a",
   "metadata": {},
   "outputs": [
    {
     "data": {
      "text/plain": [
       "<lifelines.KaplanMeierFitter:\"Global\", fitted with 707 total observations, 333 right-censored observations>"
      ]
     },
     "execution_count": 93,
     "metadata": {},
     "output_type": "execute_result"
    }
   ],
   "source": [
    "kmf = KaplanMeierFitter()\n",
    "kmf.fit(durations =  df[\"T\"],event_observed = df[\"statu\"],label=\"Global\")"
   ]
  },
  {
   "cell_type": "code",
   "execution_count": 94,
   "id": "bf71e576",
   "metadata": {},
   "outputs": [
    {
     "data": {
      "text/plain": [
       "Text(0, 0.5, 'Probabilité de survie')"
      ]
     },
     "execution_count": 94,
     "metadata": {},
     "output_type": "execute_result"
    },
    {
     "data": {
      "image/png": "[encoded data removed]",
      "text/plain": [
       "<Figure size 432x288 with 1 Axes>"
      ]
     },
     "metadata": {
      "needs_background": "light"
     },
     "output_type": "display_data"
    }
   ],
   "source": [
    "kmf.plot()\n",
    "plt.grid()\n",
    "plt.title(\"Estimateur de Kaplan Meier\")\n",
    "plt.xlabel(\"Nombre de minutes\")\n",
    "plt.ylabel(\"Probabilité de survie\")"
   ]
  },
  {
   "cell_type": "code",
   "execution_count": 95,
   "id": "c2fe646d",
   "metadata": {},
   "outputs": [
    {
     "name": "stdout",
     "output_type": "stream",
     "text": [
      "La médiane est de : 13.39\n"
     ]
    }
   ],
   "source": [
    "print(\"La médiane est de :\",kmf.median_survival_time_)"
   ]
  },
  {
   "cell_type": "code",
   "execution_count": 96,
   "id": "36cb7cd0",
   "metadata": {},
   "outputs": [
    {
     "data": {
      "text/plain": [
       "Text(0, 0.5, 'Probabilité de finish')"
      ]
     },
     "execution_count": 96,
     "metadata": {},
     "output_type": "execute_result"
    },
    {
     "data": {
      "image/png": "[encoded data removed]",
      "text/plain": [
       "<Figure size 432x288 with 1 Axes>"
      ]
     },
     "metadata": {
      "needs_background": "light"
     },
     "output_type": "display_data"
    }
   ],
   "source": [
    "ax = kmf.plot_cumulative_density()\n",
    "plt.grid()\n",
    "ax.yaxis.set_major_formatter(FuncFormatter(lambda y, _: '{:.0%}'.format(y))) \n",
    "#plt.title(\"The Kaplan-Meier Estimate\")\n",
    "plt.xlabel(\"Nombre de minutes\")\n",
    "plt.ylabel(\"Probabilité de finish\")"
   ]
  },
  {
   "cell_type": "markdown",
   "id": "9471440a",
   "metadata": {},
   "source": [
    "# Analyse par civilité"
   ]
  },
  {
   "cell_type": "code",
   "execution_count": 97,
   "id": "f3892599",
   "metadata": {},
   "outputs": [],
   "source": [
    "kmff = KaplanMeierFitter() \n",
    "kmfm= KaplanMeierFitter() "
   ]
  },
  {
   "cell_type": "code",
   "execution_count": 98,
   "id": "a670b312",
   "metadata": {},
   "outputs": [],
   "source": [
    "H = pandasql.sqldf('SELECT DISTINCT * FROM df WHERE Civilité =\"Homme\"',globals())\n",
    "F = pandasql.sqldf('SELECT DISTINCT * FROM df WHERE Civilité =\"Femme\"',globals())"
   ]
  },
  {
   "cell_type": "code",
   "execution_count": 99,
   "id": "711db4c6",
   "metadata": {},
   "outputs": [
    {
     "data": {
      "text/plain": [
       "<lifelines.KaplanMeierFitter:\"Femme\", fitted with 295 total observations, 152 right-censored observations>"
      ]
     },
     "execution_count": 99,
     "metadata": {},
     "output_type": "execute_result"
    }
   ],
   "source": [
    "kmfm.fit(durations = H[\"T\"],event_observed = H[\"statu\"] ,label=\"Homme\")\n",
    "kmff.fit(durations = F[\"T\"],event_observed = F[\"statu\"], label=\"Femme\")"
   ]
  },
  {
   "cell_type": "code",
   "execution_count": 100,
   "id": "c6b2a206",
   "metadata": {},
   "outputs": [
    {
     "data": {
      "text/plain": [
       "Text(0.5, 1.0, 'Estimateur de Kaplan Meier')"
      ]
     },
     "execution_count": 100,
     "metadata": {},
     "output_type": "execute_result"
    },
    {
     "data": {
      "image/png": "[encoded data removed]",
      "text/plain": [
       "<Figure size 432x288 with 1 Axes>"
      ]
     },
     "metadata": {
      "needs_background": "light"
     },
     "output_type": "display_data"
    }
   ],
   "source": [
    "kmfm.plot_survival_function(ci_show= False)\n",
    "kmff.plot_survival_function(ci_show= False)\n",
    "\n",
    "plt.xlabel(\"Nombre de minutes\")\n",
    "plt.ylabel(\"Probabilité de survie\")\n",
    "plt.title(\"Estimateur de Kaplan Meier\")\n"
   ]
  },
  {
   "cell_type": "code",
   "execution_count": 101,
   "id": "c681774d",
   "metadata": {},
   "outputs": [
    {
     "data": {
      "image/png": "[encoded data removed]",
      "text/plain": [
       "<Figure size 432x288 with 1 Axes>"
      ]
     },
     "metadata": {
      "needs_background": "light"
     },
     "output_type": "display_data"
    }
   ],
   "source": [
    "ax= kmfm.plot_cumulative_density(ci_show= False)\n",
    "bx = kmff.plot_cumulative_density(ci_show= False)\n",
    "plt.title(\"Densité cumulé\")\n",
    "plt.xlabel(\"Nombre de minutes\")\n",
    "plt.ylabel(\"Probabilité de finish\")\n",
    "plt.grid()\n",
    "ax.yaxis.set_major_formatter(FuncFormatter(lambda y, _: '{:.0%}'.format(y))) \n",
    "bx.yaxis.set_major_formatter(FuncFormatter(lambda y, _: '{:.0%}'.format(y)))"
   ]
  },
  {
   "cell_type": "code",
   "execution_count": 102,
   "id": "3257ed5d",
   "metadata": {},
   "outputs": [],
   "source": [
    "Time_A = H['T']\n",
    "Event_A = H['statu']\n",
    "\n",
    "Time_B = F['T']\n",
    "Event_B = F['statu']"
   ]
  },
  {
   "cell_type": "code",
   "execution_count": 103,
   "id": "5ca9491a",
   "metadata": {},
   "outputs": [
    {
     "name": "stderr",
     "output_type": "stream",
     "text": [
      "C:\\Users\\ktshilombo\\.conda\\envs\\Tensorflow\\lib\\site-packages\\lifelines\\statistics.py:143: FutureWarning: In future versions `DataFrame.to_latex` is expected to utilise the base implementation of `Styler.to_latex` for formatting and rendering. The arguments signature may therefore change. It is recommended instead to use `DataFrame.style.to_latex` which also contains additional functionality.\n",
      "  return self.summary.to_latex()\n"
     ]
    },
    {
     "data": {
      "text/html": [
       "<div>\n",
       "<style scoped>\n",
       "    .dataframe tbody tr th:only-of-type {\n",
       "        vertical-align: middle;\n",
       "    }\n",
       "\n",
       "    .dataframe tbody tr th {\n",
       "        vertical-align: top;\n",
       "    }\n",
       "\n",
       "    .dataframe thead th {\n",
       "        text-align: right;\n",
       "    }\n",
       "</style>\n",
       "<table border=\"1\" class=\"dataframe\">\n",
       "  <tbody>\n",
       "    <tr>\n",
       "      <th>t_0</th>\n",
       "      <td>-1</td>\n",
       "    </tr>\n",
       "    <tr>\n",
       "      <th>null_distribution</th>\n",
       "      <td>chi squared</td>\n",
       "    </tr>\n",
       "    <tr>\n",
       "      <th>degrees_of_freedom</th>\n",
       "      <td>1</td>\n",
       "    </tr>\n",
       "    <tr>\n",
       "      <th>test_name</th>\n",
       "      <td>logrank_test</td>\n",
       "    </tr>\n",
       "  </tbody>\n",
       "</table>\n",
       "</div><table border=\"1\" class=\"dataframe\">\n",
       "  <thead>\n",
       "    <tr style=\"text-align: right;\">\n",
       "      <th></th>\n",
       "      <th>test_statistic</th>\n",
       "      <th>p</th>\n",
       "      <th>-log2(p)</th>\n",
       "    </tr>\n",
       "  </thead>\n",
       "  <tbody>\n",
       "    <tr>\n",
       "      <th>0</th>\n",
       "      <td>5.70</td>\n",
       "      <td>0.02</td>\n",
       "      <td>5.88</td>\n",
       "    </tr>\n",
       "  </tbody>\n",
       "</table>"
      ],
      "text/latex": [
       "\\begin{tabular}{lrrr}\n",
       "\\toprule\n",
       "{} &  test\\_statistic &         p &  -log2(p) \\\\\n",
       "\\midrule\n",
       "0 &        5.698736 &  0.016977 &  5.880263 \\\\\n",
       "\\bottomrule\n",
       "\\end{tabular}\n"
      ],
      "text/plain": [
       "<lifelines.StatisticalResult: logrank_test>\n",
       "               t_0 = -1\n",
       " null_distribution = chi squared\n",
       "degrees_of_freedom = 1\n",
       "         test_name = logrank_test\n",
       "\n",
       "---\n",
       " test_statistic    p  -log2(p)\n",
       "           5.70 0.02      5.88"
      ]
     },
     "metadata": {},
     "output_type": "display_data"
    }
   ],
   "source": [
    "\n",
    "results = logrank_test(Time_A, Time_B, event_observed_A=Event_A, event_observed_B=Event_B)\n",
    "results.print_summary()"
   ]
  },
  {
   "cell_type": "code",
   "execution_count": 104,
   "id": "ee9a4982",
   "metadata": {},
   "outputs": [
    {
     "name": "stdout",
     "output_type": "stream",
     "text": [
      "P-value : 0.016977132569375233\n"
     ]
    }
   ],
   "source": [
    "print(\"P-value :\",results.p_value)"
   ]
  },
  {
   "cell_type": "markdown",
   "id": "f4c5912f",
   "metadata": {},
   "source": [
    "# Analyse par catégorie"
   ]
  },
  {
   "cell_type": "code",
   "execution_count": 105,
   "id": "8a94a76c",
   "metadata": {},
   "outputs": [],
   "source": [
    "a = KaplanMeierFitter()\n",
    "bi= KaplanMeierFitter()\n",
    "c = KaplanMeierFitter()\n",
    "d = KaplanMeierFitter()\n",
    "e = KaplanMeierFitter()\n",
    "f= KaplanMeierFitter()\n",
    "g= KaplanMeierFitter()\n",
    "hi= KaplanMeierFitter()\n",
    "i= KaplanMeierFitter()"
   ]
  },
  {
   "cell_type": "code",
   "execution_count": 106,
   "id": "7acbff00",
   "metadata": {},
   "outputs": [],
   "source": [
    "b = pandasql.sqldf('SELECT DISTINCT * FROM df WHERE Catégorie =\"BANTAMWEIGHT\"',globals())\n",
    "fe = pandasql.sqldf('SELECT DISTINCT * FROM df WHERE Catégorie =\"FEATHERWEIGHT\"',globals())\n",
    "fl = pandasql.sqldf('SELECT DISTINCT * FROM df WHERE Catégorie =\"FLYWEIGHT\"',globals())\n",
    "h = pandasql.sqldf('SELECT DISTINCT * FROM df WHERE Catégorie =\"HEAVYWEIGHT\"',globals())\n",
    "lw = pandasql.sqldf('SELECT DISTINCT * FROM df WHERE Catégorie =\"LIGHTWEIGHT\"',globals())\n",
    "lh = pandasql.sqldf('SELECT DISTINCT * FROM df WHERE Catégorie =\"LIGHT HEAVYWEIGHT\"',globals())\n",
    "m = pandasql.sqldf('SELECT DISTINCT * FROM df WHERE Catégorie =\"MIDDLEWEIGHT\"',globals())\n",
    "s = pandasql.sqldf('SELECT DISTINCT * FROM df WHERE Catégorie =\"STRAWWEIGHT\"',globals())\n",
    "w = pandasql.sqldf('SELECT DISTINCT * FROM df WHERE Catégorie =\"WELTERWEIGHT\"',globals())"
   ]
  },
  {
   "cell_type": "code",
   "execution_count": 107,
   "id": "3aa41818",
   "metadata": {},
   "outputs": [
    {
     "data": {
      "text/plain": [
       "<lifelines.KaplanMeierFitter:\"welter\", fitted with 43 total observations, 23 right-censored observations>"
      ]
     },
     "execution_count": 107,
     "metadata": {},
     "output_type": "execute_result"
    }
   ],
   "source": [
    "a.fit(durations = b[\"T\"],event_observed = b[\"statu\"] ,label=\"Bantamweight\")\n",
    "bi.fit(durations = fe[\"T\"],event_observed = fe[\"statu\"], label=\"Featherweight\")\n",
    "c.fit(durations = fl[\"T\"],event_observed = fl[\"statu\"], label=\"Flyweight\")\n",
    "d.fit(durations = h[\"T\"],event_observed = h[\"statu\"], label=\"HEAVYWEIGHT\")\n",
    "e.fit(durations = lw[\"T\"],event_observed = lw[\"statu\"], label=\"Lightweight\")\n",
    "f.fit(durations = lh[\"T\"],event_observed = lh[\"statu\"], label=\"LH\")\n",
    "g.fit(durations = m[\"T\"],event_observed = m[\"statu\"], label=\"Middleweight\")\n",
    "hi.fit(durations = s[\"T\"],event_observed = s[\"statu\"], label=\"STRAWWEIGHT\")\n",
    "i.fit(durations = w[\"T\"],event_observed = w[\"statu\"], label=\"welter\")"
   ]
  },
  {
   "cell_type": "code",
   "execution_count": 108,
   "id": "13a20c6c",
   "metadata": {},
   "outputs": [
    {
     "data": {
      "image/png": "[encoded data removed]",
      "text/plain": [
       "<Figure size 432x288 with 1 Axes>"
      ]
     },
     "metadata": {
      "needs_background": "light"
     },
     "output_type": "display_data"
    }
   ],
   "source": [
    "ax= a.plot_cumulative_density(ci_show= False)\n",
    "bx = bi.plot_cumulative_density(ci_show= False)\n",
    "cx= c.plot_cumulative_density(ci_show= False)\n",
    "dx = d.plot_cumulative_density(ci_show= False)\n",
    "ex= e.plot_cumulative_density(ci_show= False)\n",
    "fx = f.plot_cumulative_density(ci_show= False)\n",
    "gx= g.plot_cumulative_density(ci_show= False)\n",
    "hx = hi.plot_cumulative_density(ci_show= False)\n",
    "ix= i.plot_cumulative_density(ci_show= False)\n",
    "plt.title(\"Densité cumulé\")\n",
    "plt.xlabel(\"Nombre de minutes\")\n",
    "plt.ylabel(\"Probabilité de finish\")\n",
    "plt.grid()\n",
    "ax.yaxis.set_major_formatter(FuncFormatter(lambda y, _: '{:.0%}'.format(y)))\n",
    "ax.legend(loc='center left', bbox_to_anchor=(1, 0.75))\n",
    "bx.yaxis.set_major_formatter(FuncFormatter(lambda y, _: '{:.0%}'.format(y)))\n",
    "cx.yaxis.set_major_formatter(FuncFormatter(lambda y, _: '{:.0%}'.format(y))) \n",
    "dx.yaxis.set_major_formatter(FuncFormatter(lambda y, _: '{:.0%}'.format(y)))\n",
    "ex.yaxis.set_major_formatter(FuncFormatter(lambda y, _: '{:.0%}'.format(y))) \n",
    "fx.yaxis.set_major_formatter(FuncFormatter(lambda y, _: '{:.0%}'.format(y)))\n",
    "gx.yaxis.set_major_formatter(FuncFormatter(lambda y, _: '{:.0%}'.format(y))) \n",
    "hx.yaxis.set_major_formatter(FuncFormatter(lambda y, _: '{:.0%}'.format(y)))\n",
    "ix.yaxis.set_major_formatter(FuncFormatter(lambda y, _: '{:.0%}'.format(y)))"
   ]
  },
  {
   "cell_type": "markdown",
   "id": "0c43eedd",
   "metadata": {},
   "source": [
    "\n",
    "# Modélisation"
   ]
  },
  {
   "cell_type": "code",
   "execution_count": 110,
   "id": "39da0156",
   "metadata": {},
   "outputs": [],
   "source": [
    "text_cols = df.select_dtypes(include=['category']).columns\n",
    "\n",
    "#discretisation des variables catégorielle\n",
    "for col in text_cols:\n",
    "    col_dummies = pd.get_dummies(df[col])\n",
    "    df = pd.concat([df, col_dummies], axis=1)"
   ]
  },
  {
   "cell_type": "code",
   "execution_count": 111,
   "id": "77b2412d",
   "metadata": {},
   "outputs": [],
   "source": [
    "colonne = ['Age','BANTAMWEIGHT','FEATHERWEIGHT','FLYWEIGHT','HEAVYWEIGHT','LIGHT HEAVYWEIGHT','LIGHTWEIGHT','MIDDLEWEIGHT','WELTERWEIGHT','Homme','statu','T']"
   ]
  },
  {
   "cell_type": "code",
   "execution_count": 112,
   "id": "9c0c7749",
   "metadata": {},
   "outputs": [
    {
     "name": "stderr",
     "output_type": "stream",
     "text": [
      "C:\\Users\\ktshilombo\\.conda\\envs\\Tensorflow\\lib\\site-packages\\lifelines\\utils\\printer.py:62: FutureWarning: In future versions `DataFrame.to_latex` is expected to utilise the base implementation of `Styler.to_latex` for formatting and rendering. The arguments signature may therefore change. It is recommended instead to use `DataFrame.style.to_latex` which also contains additional functionality.\n",
      "  return summary_df[columns].to_latex(float_format=\"%.\" + str(self.decimals) + \"f\")\n"
     ]
    },
    {
     "data": {
      "text/html": [
       "<div>\n",
       "<style scoped>\n",
       "    .dataframe tbody tr th:only-of-type {\n",
       "        vertical-align: middle;\n",
       "    }\n",
       "\n",
       "    .dataframe tbody tr th {\n",
       "        vertical-align: top;\n",
       "    }\n",
       "\n",
       "    .dataframe thead th {\n",
       "        text-align: right;\n",
       "    }\n",
       "</style>\n",
       "<table border=\"1\" class=\"dataframe\">\n",
       "  <tbody>\n",
       "    <tr>\n",
       "      <th>model</th>\n",
       "      <td>lifelines.CoxPHFitter</td>\n",
       "    </tr>\n",
       "    <tr>\n",
       "      <th>duration col</th>\n",
       "      <td>'T'</td>\n",
       "    </tr>\n",
       "    <tr>\n",
       "      <th>event col</th>\n",
       "      <td>'statu'</td>\n",
       "    </tr>\n",
       "    <tr>\n",
       "      <th>baseline estimation</th>\n",
       "      <td>breslow</td>\n",
       "    </tr>\n",
       "    <tr>\n",
       "      <th>number of observations</th>\n",
       "      <td>707</td>\n",
       "    </tr>\n",
       "    <tr>\n",
       "      <th>number of events observed</th>\n",
       "      <td>374</td>\n",
       "    </tr>\n",
       "    <tr>\n",
       "      <th>partial log-likelihood</th>\n",
       "      <td>-2226.95</td>\n",
       "    </tr>\n",
       "    <tr>\n",
       "      <th>time fit was run</th>\n",
       "      <td>2022-09-04 09:44:33 UTC</td>\n",
       "    </tr>\n",
       "  </tbody>\n",
       "</table>\n",
       "</div><table border=\"1\" class=\"dataframe\">\n",
       "  <thead>\n",
       "    <tr style=\"text-align: right;\">\n",
       "      <th style=\"min-width: 12px;\"></th>\n",
       "      <th style=\"min-width: 12px;\">coef</th>\n",
       "      <th style=\"min-width: 12px;\">exp(coef)</th>\n",
       "      <th style=\"min-width: 12px;\">se(coef)</th>\n",
       "      <th style=\"min-width: 12px;\">coef lower 95%</th>\n",
       "      <th style=\"min-width: 12px;\">coef upper 95%</th>\n",
       "      <th style=\"min-width: 12px;\">exp(coef) lower 95%</th>\n",
       "      <th style=\"min-width: 12px;\">exp(coef) upper 95%</th>\n",
       "      <th style=\"min-width: 12px;\">cmp to</th>\n",
       "      <th style=\"min-width: 12px;\">z</th>\n",
       "      <th style=\"min-width: 12px;\">p</th>\n",
       "      <th style=\"min-width: 12px;\">-log2(p)</th>\n",
       "    </tr>\n",
       "  </thead>\n",
       "  <tbody>\n",
       "    <tr>\n",
       "      <th>Age</th>\n",
       "      <td>-0.13</td>\n",
       "      <td>0.88</td>\n",
       "      <td>0.01</td>\n",
       "      <td>-0.15</td>\n",
       "      <td>-0.10</td>\n",
       "      <td>0.86</td>\n",
       "      <td>0.91</td>\n",
       "      <td>0.00</td>\n",
       "      <td>-9.04</td>\n",
       "      <td>&lt;0.005</td>\n",
       "      <td>62.47</td>\n",
       "    </tr>\n",
       "    <tr>\n",
       "      <th>BANTAMWEIGHT</th>\n",
       "      <td>0.02</td>\n",
       "      <td>1.02</td>\n",
       "      <td>0.21</td>\n",
       "      <td>-0.39</td>\n",
       "      <td>0.43</td>\n",
       "      <td>0.68</td>\n",
       "      <td>1.53</td>\n",
       "      <td>0.00</td>\n",
       "      <td>0.10</td>\n",
       "      <td>0.92</td>\n",
       "      <td>0.12</td>\n",
       "    </tr>\n",
       "    <tr>\n",
       "      <th>FEATHERWEIGHT</th>\n",
       "      <td>0.02</td>\n",
       "      <td>1.02</td>\n",
       "      <td>0.26</td>\n",
       "      <td>-0.50</td>\n",
       "      <td>0.53</td>\n",
       "      <td>0.61</td>\n",
       "      <td>1.71</td>\n",
       "      <td>0.00</td>\n",
       "      <td>0.07</td>\n",
       "      <td>0.94</td>\n",
       "      <td>0.08</td>\n",
       "    </tr>\n",
       "    <tr>\n",
       "      <th>FLYWEIGHT</th>\n",
       "      <td>0.17</td>\n",
       "      <td>1.18</td>\n",
       "      <td>0.18</td>\n",
       "      <td>-0.19</td>\n",
       "      <td>0.52</td>\n",
       "      <td>0.83</td>\n",
       "      <td>1.69</td>\n",
       "      <td>0.00</td>\n",
       "      <td>0.91</td>\n",
       "      <td>0.36</td>\n",
       "      <td>1.46</td>\n",
       "    </tr>\n",
       "    <tr>\n",
       "      <th>HEAVYWEIGHT</th>\n",
       "      <td>1.62</td>\n",
       "      <td>5.07</td>\n",
       "      <td>0.31</td>\n",
       "      <td>1.02</td>\n",
       "      <td>2.22</td>\n",
       "      <td>2.78</td>\n",
       "      <td>9.24</td>\n",
       "      <td>0.00</td>\n",
       "      <td>5.30</td>\n",
       "      <td>&lt;0.005</td>\n",
       "      <td>23.02</td>\n",
       "    </tr>\n",
       "    <tr>\n",
       "      <th>LIGHT HEAVYWEIGHT</th>\n",
       "      <td>0.70</td>\n",
       "      <td>2.02</td>\n",
       "      <td>0.27</td>\n",
       "      <td>0.18</td>\n",
       "      <td>1.22</td>\n",
       "      <td>1.20</td>\n",
       "      <td>3.40</td>\n",
       "      <td>0.00</td>\n",
       "      <td>2.64</td>\n",
       "      <td>0.01</td>\n",
       "      <td>6.91</td>\n",
       "    </tr>\n",
       "    <tr>\n",
       "      <th>LIGHTWEIGHT</th>\n",
       "      <td>0.70</td>\n",
       "      <td>2.01</td>\n",
       "      <td>0.26</td>\n",
       "      <td>0.19</td>\n",
       "      <td>1.21</td>\n",
       "      <td>1.21</td>\n",
       "      <td>3.34</td>\n",
       "      <td>0.00</td>\n",
       "      <td>2.71</td>\n",
       "      <td>0.01</td>\n",
       "      <td>7.20</td>\n",
       "    </tr>\n",
       "    <tr>\n",
       "      <th>MIDDLEWEIGHT</th>\n",
       "      <td>0.82</td>\n",
       "      <td>2.26</td>\n",
       "      <td>0.36</td>\n",
       "      <td>0.12</td>\n",
       "      <td>1.51</td>\n",
       "      <td>1.13</td>\n",
       "      <td>4.54</td>\n",
       "      <td>0.00</td>\n",
       "      <td>2.30</td>\n",
       "      <td>0.02</td>\n",
       "      <td>5.53</td>\n",
       "    </tr>\n",
       "    <tr>\n",
       "      <th>WELTERWEIGHT</th>\n",
       "      <td>0.09</td>\n",
       "      <td>1.10</td>\n",
       "      <td>0.31</td>\n",
       "      <td>-0.52</td>\n",
       "      <td>0.71</td>\n",
       "      <td>0.59</td>\n",
       "      <td>2.03</td>\n",
       "      <td>0.00</td>\n",
       "      <td>0.30</td>\n",
       "      <td>0.77</td>\n",
       "      <td>0.38</td>\n",
       "    </tr>\n",
       "    <tr>\n",
       "      <th>Homme</th>\n",
       "      <td>-0.34</td>\n",
       "      <td>0.72</td>\n",
       "      <td>0.18</td>\n",
       "      <td>-0.70</td>\n",
       "      <td>0.02</td>\n",
       "      <td>0.50</td>\n",
       "      <td>1.03</td>\n",
       "      <td>0.00</td>\n",
       "      <td>-1.82</td>\n",
       "      <td>0.07</td>\n",
       "      <td>3.88</td>\n",
       "    </tr>\n",
       "  </tbody>\n",
       "</table><br><div>\n",
       "<style scoped>\n",
       "    .dataframe tbody tr th:only-of-type {\n",
       "        vertical-align: middle;\n",
       "    }\n",
       "\n",
       "    .dataframe tbody tr th {\n",
       "        vertical-align: top;\n",
       "    }\n",
       "\n",
       "    .dataframe thead th {\n",
       "        text-align: right;\n",
       "    }\n",
       "</style>\n",
       "<table border=\"1\" class=\"dataframe\">\n",
       "  <tbody>\n",
       "    <tr>\n",
       "      <th>Concordance</th>\n",
       "      <td>0.67</td>\n",
       "    </tr>\n",
       "    <tr>\n",
       "      <th>Partial AIC</th>\n",
       "      <td>4473.90</td>\n",
       "    </tr>\n",
       "    <tr>\n",
       "      <th>log-likelihood ratio test</th>\n",
       "      <td>124.14 on 10 df</td>\n",
       "    </tr>\n",
       "    <tr>\n",
       "      <th>-log2(p) of ll-ratio test</th>\n",
       "      <td>70.22</td>\n",
       "    </tr>\n",
       "  </tbody>\n",
       "</table>\n",
       "</div>"
      ],
      "text/latex": [
       "\\begin{tabular}{lrrrrrrrrrrr}\n",
       "\\toprule\n",
       "{} &  coef &  exp(coef) &  se(coef) &  coef lower 95\\% &  coef upper 95\\% &  exp(coef) lower 95\\% &  exp(coef) upper 95\\% &  cmp to &     z &    p &  -log2(p) \\\\\n",
       "covariate         &       &            &           &                 &                 &                      &                      &         &       &      &           \\\\\n",
       "\\midrule\n",
       "Age               & -0.13 &       0.88 &      0.01 &           -0.15 &           -0.10 &                 0.86 &                 0.91 &    0.00 & -9.04 & 0.00 &     62.47 \\\\\n",
       "BANTAMWEIGHT      &  0.02 &       1.02 &      0.21 &           -0.39 &            0.43 &                 0.68 &                 1.53 &    0.00 &  0.10 & 0.92 &      0.12 \\\\\n",
       "FEATHERWEIGHT     &  0.02 &       1.02 &      0.26 &           -0.50 &            0.53 &                 0.61 &                 1.71 &    0.00 &  0.07 & 0.94 &      0.08 \\\\\n",
       "FLYWEIGHT         &  0.17 &       1.18 &      0.18 &           -0.19 &            0.52 &                 0.83 &                 1.69 &    0.00 &  0.91 & 0.36 &      1.46 \\\\\n",
       "HEAVYWEIGHT       &  1.62 &       5.07 &      0.31 &            1.02 &            2.22 &                 2.78 &                 9.24 &    0.00 &  5.30 & 0.00 &     23.02 \\\\\n",
       "LIGHT HEAVYWEIGHT &  0.70 &       2.02 &      0.27 &            0.18 &            1.22 &                 1.20 &                 3.40 &    0.00 &  2.64 & 0.01 &      6.91 \\\\\n",
       "LIGHTWEIGHT       &  0.70 &       2.01 &      0.26 &            0.19 &            1.21 &                 1.21 &                 3.34 &    0.00 &  2.71 & 0.01 &      7.20 \\\\\n",
       "MIDDLEWEIGHT      &  0.82 &       2.26 &      0.36 &            0.12 &            1.51 &                 1.13 &                 4.54 &    0.00 &  2.30 & 0.02 &      5.53 \\\\\n",
       "WELTERWEIGHT      &  0.09 &       1.10 &      0.31 &           -0.52 &            0.71 &                 0.59 &                 2.03 &    0.00 &  0.30 & 0.77 &      0.38 \\\\\n",
       "Homme             & -0.34 &       0.72 &      0.18 &           -0.70 &            0.02 &                 0.50 &                 1.03 &    0.00 & -1.82 & 0.07 &      3.88 \\\\\n",
       "\\bottomrule\n",
       "\\end{tabular}\n"
      ],
      "text/plain": [
       "<lifelines.CoxPHFitter: fitted with 707 total observations, 333 right-censored observations>\n",
       "             duration col = 'T'\n",
       "                event col = 'statu'\n",
       "      baseline estimation = breslow\n",
       "   number of observations = 707\n",
       "number of events observed = 374\n",
       "   partial log-likelihood = -2226.95\n",
       "         time fit was run = 2022-09-04 09:44:33 UTC\n",
       "\n",
       "---\n",
       "                    coef  exp(coef)   se(coef)   coef lower 95%   coef upper 95%  exp(coef) lower 95%  exp(coef) upper 95%\n",
       "covariate                                                                                                                 \n",
       "Age                -0.13       0.88       0.01            -0.15            -0.10                 0.86                 0.91\n",
       "BANTAMWEIGHT        0.02       1.02       0.21            -0.39             0.43                 0.68                 1.53\n",
       "FEATHERWEIGHT       0.02       1.02       0.26            -0.50             0.53                 0.61                 1.71\n",
       "FLYWEIGHT           0.17       1.18       0.18            -0.19             0.52                 0.83                 1.69\n",
       "HEAVYWEIGHT         1.62       5.07       0.31             1.02             2.22                 2.78                 9.24\n",
       "LIGHT HEAVYWEIGHT   0.70       2.02       0.27             0.18             1.22                 1.20                 3.40\n",
       "LIGHTWEIGHT         0.70       2.01       0.26             0.19             1.21                 1.21                 3.34\n",
       "MIDDLEWEIGHT        0.82       2.26       0.36             0.12             1.51                 1.13                 4.54\n",
       "WELTERWEIGHT        0.09       1.10       0.31            -0.52             0.71                 0.59                 2.03\n",
       "Homme              -0.34       0.72       0.18            -0.70             0.02                 0.50                 1.03\n",
       "\n",
       "                    cmp to     z      p   -log2(p)\n",
       "covariate                                         \n",
       "Age                   0.00 -9.04 <0.005      62.47\n",
       "BANTAMWEIGHT          0.00  0.10   0.92       0.12\n",
       "FEATHERWEIGHT         0.00  0.07   0.94       0.08\n",
       "FLYWEIGHT             0.00  0.91   0.36       1.46\n",
       "HEAVYWEIGHT           0.00  5.30 <0.005      23.02\n",
       "LIGHT HEAVYWEIGHT     0.00  2.64   0.01       6.91\n",
       "LIGHTWEIGHT           0.00  2.71   0.01       7.20\n",
       "MIDDLEWEIGHT          0.00  2.30   0.02       5.53\n",
       "WELTERWEIGHT          0.00  0.30   0.77       0.38\n",
       "Homme                 0.00 -1.82   0.07       3.88\n",
       "---\n",
       "Concordance = 0.67\n",
       "Partial AIC = 4473.90\n",
       "log-likelihood ratio test = 124.14 on 10 df\n",
       "-log2(p) of ll-ratio test = 70.22"
      ]
     },
     "metadata": {},
     "output_type": "display_data"
    }
   ],
   "source": [
    "cph = CoxPHFitter()\n",
    "cph.fit(df[colonne], 'T', event_col='statu')\n",
    "cph.print_summary()"
   ]
  },
  {
   "cell_type": "code",
   "execution_count": 113,
   "id": "ab369048",
   "metadata": {},
   "outputs": [
    {
     "data": {
      "text/plain": [
       "<matplotlib.axes._subplots.AxesSubplot at 0x15387ad20a0>"
      ]
     },
     "execution_count": 113,
     "metadata": {},
     "output_type": "execute_result"
    },
    {
     "data": {
      "image/png": "[encoded data removed]",
      "text/plain": [
       "<Figure size 432x288 with 1 Axes>"
      ]
     },
     "metadata": {
      "needs_background": "light"
     },
     "output_type": "display_data"
    }
   ],
   "source": [
    "cph.plot()"
   ]
  }
 ],
 "metadata": {
  "kernelspec": {
   "display_name": "Python 3 (ipykernel)",
   "language": "python",
   "name": "python3"
  },
  "language_info": {
   "codemirror_mode": {
    "name": "ipython",
    "version": 3
   },
   "file_extension": ".py",
   "mimetype": "text/x-python",
   "name": "python",
   "nbconvert_exporter": "python",
   "pygments_lexer": "ipython3",
   "version": "3.8.13"
  }
 },
 "nbformat": 4,
 "nbformat_minor": 5
}
